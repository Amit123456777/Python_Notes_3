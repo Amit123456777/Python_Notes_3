{
 "cells": [
  {
   "cell_type": "code",
   "execution_count": 1,
   "id": "68000b7f",
   "metadata": {},
   "outputs": [],
   "source": [
    "# Data Structures\n",
    "students_list = []\n",
    "student_tuple = {}\n",
    "courses_set = set()\n",
    "grades_dict = ()"
   ]
  },
  {
   "cell_type": "code",
   "execution_count": 9,
   "id": "3c6b1e6a",
   "metadata": {},
   "outputs": [
    {
     "ename": "SyntaxError",
     "evalue": "unterminated string literal (detected at line 22) (549206304.py, line 22)",
     "output_type": "error",
     "traceback": [
      "\u001b[1;36m  Cell \u001b[1;32mIn[9], line 22\u001b[1;36m\u001b[0m\n\u001b[1;33m    print(f\"Name:{student['name']}, Age:{student['age']}, courses:{','.join(student['courses'])})\u001b[0m\n\u001b[1;37m          ^\u001b[0m\n\u001b[1;31mSyntaxError\u001b[0m\u001b[1;31m:\u001b[0m unterminated string literal (detected at line 22)\n"
     ]
    }
   ],
   "source": [
    "# Functions\n",
    "def add_student():\n",
    "    name = input(\"Enter student name: \")\n",
    "    age = int(input(\"Enter student age: \"))\n",
    "    courses = input(\"Enter student courses (comma-separated):\")\n",
    "    \n",
    "    student = {'name': name, 'age': age, 'courses' : courses}\n",
    "    students_list.append(student)\n",
    "    \n",
    "    for couse in courses:\n",
    "         courses_set.add(course)\n",
    "            \n",
    "    print(\"student added successfully. \")\n",
    "\n",
    "def display_student():\n",
    "    if not students_list:\n",
    "        print(\"no studentss in the system\")\n",
    "        \n",
    "    else:\n",
    "        print(\"\\nstatements in the system. \")\n",
    "        for student in students_list:\n",
    "            print(f\"Name:{student['name']}, Age:{student['age']}, courses:{','.join(student['courses'])})\n",
    "                  \n",
    "def display_courses():\n",
    "    if not courses_set:\n",
    "        print(\"No courses in the system. \")\n",
    "    else:\n",
    "        print(\"\\nCourses in the system: \")\n",
    "        for course in courses_set:\n",
    "            print(courses)\n",
    "                  \n",
    "def add_grade():\n",
    "    if not students_list or not courses_set:\n",
    "        print(\"Cannot add grades. Students or courses not available. \")\n",
    "        return\n",
    "                 \n",
    "student_name = input(\"Enter student name to add grades: \")\n",
    "course = input(\"Enter course for which you want to add grades : \")\n",
    "grade = float(input(\"Enter the grade for the course:\"))\n",
    "                  \n",
    "for students in students_list:\n",
    "    if student['name']=="
   ]
  },
  {
   "cell_type": "code",
   "execution_count": null,
   "id": "511c21d6",
   "metadata": {},
   "outputs": [],
   "source": []
  }
 ],
 "metadata": {
  "kernelspec": {
   "display_name": "Python 3 (ipykernel)",
   "language": "python",
   "name": "python3"
  },
  "language_info": {
   "codemirror_mode": {
    "name": "ipython",
    "version": 3
   },
   "file_extension": ".py",
   "mimetype": "text/x-python",
   "name": "python",
   "nbconvert_exporter": "python",
   "pygments_lexer": "ipython3",
   "version": "3.11.4"
  }
 },
 "nbformat": 4,
 "nbformat_minor": 5
}
