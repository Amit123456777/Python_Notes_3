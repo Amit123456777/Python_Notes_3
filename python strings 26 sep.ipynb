{
 "cells": [
  {
   "cell_type": "code",
   "execution_count": 1,
   "id": "70e8bc00",
   "metadata": {},
   "outputs": [],
   "source": [
    "#python joint two sets"
   ]
  },
  {
   "cell_type": "code",
   "execution_count": 2,
   "id": "dd2413e2",
   "metadata": {},
   "outputs": [],
   "source": [
    "# union method returns a new set containing all items from both sets."
   ]
  },
  {
   "cell_type": "code",
   "execution_count": 3,
   "id": "8a951fa3",
   "metadata": {},
   "outputs": [],
   "source": [
    "# update methods"
   ]
  },
  {
   "cell_type": "code",
   "execution_count": 11,
   "id": "01d2dd8a",
   "metadata": {},
   "outputs": [],
   "source": [
    "s5 = {\"a\",\"b\",\"c\"}"
   ]
  },
  {
   "cell_type": "code",
   "execution_count": 12,
   "id": "99ad5e0e",
   "metadata": {},
   "outputs": [],
   "source": [
    "s6 = {1,2,3,4,5}"
   ]
  },
  {
   "cell_type": "code",
   "execution_count": 13,
   "id": "e3563df0",
   "metadata": {
    "scrolled": true
   },
   "outputs": [
    {
     "name": "stdout",
     "output_type": "stream",
     "text": [
      "{1, 2, 3, 'a', 4, 5, 'c', 'b'}\n"
     ]
    }
   ],
   "source": [
    "s7 = s5.union(s6)\n",
    "print(s7)"
   ]
  },
  {
   "cell_type": "code",
   "execution_count": 14,
   "id": "d694ae98",
   "metadata": {},
   "outputs": [],
   "source": [
    "s8=s5.update(s6)"
   ]
  },
  {
   "cell_type": "code",
   "execution_count": 16,
   "id": "12721cc1",
   "metadata": {},
   "outputs": [
    {
     "name": "stdout",
     "output_type": "stream",
     "text": [
      "None\n"
     ]
    }
   ],
   "source": [
    "print(s8)"
   ]
  },
  {
   "cell_type": "markdown",
   "id": "09209ae2",
   "metadata": {},
   "source": [
    "s5.update(s6)"
   ]
  },
  {
   "cell_type": "code",
   "execution_count": 17,
   "id": "ca95176a",
   "metadata": {},
   "outputs": [
    {
     "name": "stdout",
     "output_type": "stream",
     "text": [
      "{1, 2, 3, 'a', 4, 5, 'c', 'b'}\n"
     ]
    }
   ],
   "source": [
    "print(s5)"
   ]
  },
  {
   "cell_type": "code",
   "execution_count": 20,
   "id": "05773ef0",
   "metadata": {},
   "outputs": [],
   "source": [
    "x = \"Hello\""
   ]
  },
  {
   "cell_type": "code",
   "execution_count": 21,
   "id": "28650c3e",
   "metadata": {},
   "outputs": [
    {
     "name": "stdout",
     "output_type": "stream",
     "text": [
      "Hello\n"
     ]
    }
   ],
   "source": [
    "print(x)"
   ]
  },
  {
   "cell_type": "code",
   "execution_count": 22,
   "id": "3543f0a1",
   "metadata": {},
   "outputs": [],
   "source": [
    "x = \"\"\"hello\n",
    "world\"\"\""
   ]
  },
  {
   "cell_type": "code",
   "execution_count": 23,
   "id": "53b9d8e5",
   "metadata": {},
   "outputs": [
    {
     "name": "stdout",
     "output_type": "stream",
     "text": [
      "hello\n",
      "world\n"
     ]
    }
   ],
   "source": [
    "print(x)"
   ]
  },
  {
   "cell_type": "code",
   "execution_count": 28,
   "id": "bd561642",
   "metadata": {},
   "outputs": [],
   "source": [
    "x='Hello, World'"
   ]
  },
  {
   "cell_type": "code",
   "execution_count": 29,
   "id": "2149d3a1",
   "metadata": {},
   "outputs": [
    {
     "name": "stdout",
     "output_type": "stream",
     "text": [
      "llo\n"
     ]
    }
   ],
   "source": [
    "print(x[2:5])"
   ]
  },
  {
   "cell_type": "code",
   "execution_count": 30,
   "id": "e050821e",
   "metadata": {},
   "outputs": [
    {
     "name": "stdout",
     "output_type": "stream",
     "text": [
      "llo, World\n"
     ]
    }
   ],
   "source": [
    "print(x[2:])"
   ]
  },
  {
   "cell_type": "code",
   "execution_count": 31,
   "id": "448eebea",
   "metadata": {},
   "outputs": [
    {
     "name": "stdout",
     "output_type": "stream",
     "text": [
      "Hello\n"
     ]
    }
   ],
   "source": [
    "print(x[:5])"
   ]
  },
  {
   "cell_type": "code",
   "execution_count": 32,
   "id": "d2ce1b0e",
   "metadata": {},
   "outputs": [
    {
     "name": "stdout",
     "output_type": "stream",
     "text": [
      "Hello\n"
     ]
    }
   ],
   "source": [
    "print(x[0:5])"
   ]
  },
  {
   "cell_type": "code",
   "execution_count": 33,
   "id": "f53f00d1",
   "metadata": {},
   "outputs": [
    {
     "name": "stdout",
     "output_type": "stream",
     "text": [
      "llo, World\n"
     ]
    }
   ],
   "source": [
    "print(x[2:])"
   ]
  },
  {
   "cell_type": "code",
   "execution_count": 42,
   "id": "0b95941d",
   "metadata": {},
   "outputs": [
    {
     "name": "stdout",
     "output_type": "stream",
     "text": [
      "orl\n"
     ]
    }
   ],
   "source": [
    "print(x[-4:-1])"
   ]
  },
  {
   "cell_type": "code",
   "execution_count": 43,
   "id": "ae9946c0",
   "metadata": {},
   "outputs": [
    {
     "name": "stdout",
     "output_type": "stream",
     "text": [
      "HELLO, WORLD\n"
     ]
    }
   ],
   "source": [
    "print(x.upper())"
   ]
  },
  {
   "cell_type": "code",
   "execution_count": 44,
   "id": "5520bc45",
   "metadata": {},
   "outputs": [
    {
     "name": "stdout",
     "output_type": "stream",
     "text": [
      "hello, world\n"
     ]
    }
   ],
   "source": [
    "print(x.lower())"
   ]
  },
  {
   "cell_type": "code",
   "execution_count": 49,
   "id": "19904fb6",
   "metadata": {},
   "outputs": [
    {
     "name": "stdout",
     "output_type": "stream",
     "text": [
      "Yello, World\n"
     ]
    }
   ],
   "source": [
    "print(x.replace(\"H\",\"Y\"))"
   ]
  },
  {
   "cell_type": "code",
   "execution_count": 50,
   "id": "1abf1912",
   "metadata": {},
   "outputs": [],
   "source": [
    "#concatenate strings"
   ]
  },
  {
   "cell_type": "code",
   "execution_count": 61,
   "id": "6986292b",
   "metadata": {},
   "outputs": [
    {
     "name": "stdout",
     "output_type": "stream",
     "text": [
      "AbcdSODS\n",
      "Abcd   SODS\n"
     ]
    }
   ],
   "source": [
    "p=\"AAFT\"\n",
    "Q=\"SODS\"\n",
    "R=P+Q\n",
    "print(R)\n",
    "\n",
    "\n",
    "p=\"AAFT\"\n",
    "Q=\"SODS\"\n",
    "R=P+ \"   \" + Q\n",
    "print(R)"
   ]
  },
  {
   "cell_type": "code",
   "execution_count": 52,
   "id": "d7b0ee6a",
   "metadata": {},
   "outputs": [],
   "source": [
    "# string format"
   ]
  },
  {
   "cell_type": "code",
   "execution_count": 57,
   "id": "f982882a",
   "metadata": {},
   "outputs": [],
   "source": [
    "# we can combine strings and number by using format methods.\n"
   ]
  },
  {
   "cell_type": "code",
   "execution_count": 59,
   "id": "8c34e2a9",
   "metadata": {},
   "outputs": [
    {
     "name": "stdout",
     "output_type": "stream",
     "text": [
      "Abcd   SODS\n"
     ]
    }
   ],
   "source": [
    "p=\"AAFT\"\n",
    "Q=\"SODS\"\n",
    "R=P+ \"   \" + Q\n",
    "print(R)"
   ]
  },
  {
   "cell_type": "code",
   "execution_count": 62,
   "id": "30291f88",
   "metadata": {},
   "outputs": [],
   "source": [
    "# 2 METHODS OF STRINGS CAPATALISE AND TITLES\n"
   ]
  },
  {
   "cell_type": "code",
   "execution_count": 64,
   "id": "4489fd68",
   "metadata": {},
   "outputs": [],
   "source": [
    "x=\"hello world\""
   ]
  },
  {
   "cell_type": "code",
   "execution_count": 70,
   "id": "35b96d21",
   "metadata": {},
   "outputs": [
    {
     "name": "stdout",
     "output_type": "stream",
     "text": [
      "Hello world\n"
     ]
    }
   ],
   "source": [
    "print(x.capitalize()) # in capatalize first word is capital."
   ]
  },
  {
   "cell_type": "code",
   "execution_count": 71,
   "id": "732ee564",
   "metadata": {},
   "outputs": [
    {
     "name": "stdout",
     "output_type": "stream",
     "text": [
      "Hello World\n"
     ]
    }
   ],
   "source": [
    "print(x.title()) # in title hr word ka first word capital"
   ]
  },
  {
   "cell_type": "code",
   "execution_count": 72,
   "id": "a84a44c9",
   "metadata": {},
   "outputs": [],
   "source": [
    "# difference between capatalize and title see above code.⬆️"
   ]
  },
  {
   "cell_type": "code",
   "execution_count": null,
   "id": "034200be",
   "metadata": {},
   "outputs": [],
   "source": []
  },
  {
   "cell_type": "code",
   "execution_count": null,
   "id": "503ed1dd",
   "metadata": {},
   "outputs": [],
   "source": []
  }
 ],
 "metadata": {
  "kernelspec": {
   "display_name": "Python 3 (ipykernel)",
   "language": "python",
   "name": "python3"
  },
  "language_info": {
   "codemirror_mode": {
    "name": "ipython",
    "version": 3
   },
   "file_extension": ".py",
   "mimetype": "text/x-python",
   "name": "python",
   "nbconvert_exporter": "python",
   "pygments_lexer": "ipython3",
   "version": "3.11.4"
  }
 },
 "nbformat": 4,
 "nbformat_minor": 5
}
