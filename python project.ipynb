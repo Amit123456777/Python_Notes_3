{
 "cells": [
  {
   "cell_type": "code",
   "execution_count": 1,
   "id": "ac087c13",
   "metadata": {},
   "outputs": [
    {
     "name": "stdout",
     "output_type": "stream",
     "text": [
      "[1, 2, 3, 4]\n"
     ]
    }
   ],
   "source": [
    "# question 8\n",
    "\n",
    "# pop (2 method) \n",
    "\n",
    "# a. removes to specified index\n",
    "\n",
    "list1 = [1,2,3,4,5]\n",
    "list1.pop()\n",
    "print(list1)"
   ]
  },
  {
   "cell_type": "code",
   "execution_count": 26,
   "id": "638a74ec",
   "metadata": {},
   "outputs": [
    {
     "name": "stdout",
     "output_type": "stream",
     "text": [
      "[1, 2, 3, 5]\n"
     ]
    }
   ],
   "source": [
    "# b. remove last if index not specified\n",
    "list2 = [1,2,3,4,5]\n",
    "list2.pop(3)\n",
    "print(list2)"
   ]
  },
  {
   "cell_type": "code",
   "execution_count": 2,
   "id": "984ad782",
   "metadata": {},
   "outputs": [
    {
     "name": "stdout",
     "output_type": "stream",
     "text": [
      "[1, 2, 3, 5]\n"
     ]
    }
   ],
   "source": [
    "# del(2 method)\n",
    "\n",
    "# a. also removes specfied index\n",
    "\n",
    "list3 = [1,2,3,4,5]\n",
    "del list3[3]\n",
    "print(list3)"
   ]
  },
  {
   "cell_type": "code",
   "execution_count": 18,
   "id": "e3d543fd",
   "metadata": {},
   "outputs": [],
   "source": [
    "list4 = [1,2,3,4,5]\n",
    "del list4[:]\n",
    "print(list4)"
   ]
  },
  {
   "cell_type": "code",
   "execution_count": null,
   "id": "67eb12ad",
   "metadata": {
    "scrolled": true
   },
   "outputs": [],
   "source": []
  },
  {
   "cell_type": "code",
   "execution_count": 39,
   "id": "3702fb04",
   "metadata": {
    "scrolled": true
   },
   "outputs": [
    {
     "ename": "SyntaxError",
     "evalue": "invalid syntax (1092023404.py, line 3)",
     "output_type": "error",
     "traceback": [
      "\u001b[1;36m  Cell \u001b[1;32mIn[39], line 3\u001b[1;36m\u001b[0m\n\u001b[1;33m    print(del list4[:])\u001b[0m\n\u001b[1;37m          ^\u001b[0m\n\u001b[1;31mSyntaxError\u001b[0m\u001b[1;31m:\u001b[0m invalid syntax\n"
     ]
    }
   ],
   "source": []
  },
  {
   "cell_type": "code",
   "execution_count": 40,
   "id": "24a1f749",
   "metadata": {},
   "outputs": [
    {
     "ename": "NameError",
     "evalue": "name 'list5' is not defined",
     "output_type": "error",
     "traceback": [
      "\u001b[1;31m---------------------------------------------------------------------------\u001b[0m",
      "\u001b[1;31mNameError\u001b[0m                                 Traceback (most recent call last)",
      "Cell \u001b[1;32mIn[40], line 4\u001b[0m\n\u001b[0;32m      2\u001b[0m list5 \u001b[38;5;241m=\u001b[39m [\u001b[38;5;241m1\u001b[39m,\u001b[38;5;241m2\u001b[39m,\u001b[38;5;241m3\u001b[39m,\u001b[38;5;241m4\u001b[39m,\u001b[38;5;241m5\u001b[39m]\n\u001b[0;32m      3\u001b[0m \u001b[38;5;28;01mdel\u001b[39;00m list5\n\u001b[1;32m----> 4\u001b[0m \u001b[38;5;28mprint\u001b[39m(list5)\n",
      "\u001b[1;31mNameError\u001b[0m: name 'list5' is not defined"
     ]
    }
   ],
   "source": [
    "# del keyword can also delete the list completely (it means it shows error)\n",
    "list5 = [1,2,3,4,5]\n",
    "del list5\n",
    "print(list5)"
   ]
  },
  {
   "cell_type": "code",
   "execution_count": 3,
   "id": "3d348ea7",
   "metadata": {},
   "outputs": [
    {
     "name": "stdout",
     "output_type": "stream",
     "text": [
      "[]\n"
     ]
    }
   ],
   "source": [
    "# clear\n",
    "# this method empty the list\n",
    "\n",
    "list6=[1,2,3,4,5]\n",
    "list6.clear()\n",
    "print(list6)"
   ]
  },
  {
   "cell_type": "code",
   "execution_count": null,
   "id": "34e00a0f",
   "metadata": {},
   "outputs": [],
   "source": []
  },
  {
   "cell_type": "code",
   "execution_count": 50,
   "id": "15b68fd0",
   "metadata": {},
   "outputs": [
    {
     "name": "stdout",
     "output_type": "stream",
     "text": [
      "['green', 'blue', 'indigo', 'voilet']\n"
     ]
    }
   ],
   "source": [
    "# 9 revesing a list \n",
    "colors = [\"voilet\", \"indigo\", \"blue\", \"green\"]\n",
    "colors.reverse()\n",
    "print(colors)"
   ]
  },
  {
   "cell_type": "code",
   "execution_count": 51,
   "id": "fb5c8d4a",
   "metadata": {},
   "outputs": [
    {
     "name": "stdout",
     "output_type": "stream",
     "text": [
      "[7, 9, 8, 2, 1, 2, 1, 6, 3, 5, 2, 4]\n"
     ]
    }
   ],
   "source": [
    "\n",
    "\n",
    "num = [4,2,5,3,6,1,2,1,2,8,9,7]\n",
    "num.reverse()\n",
    "print(num)"
   ]
  },
  {
   "cell_type": "code",
   "execution_count": 57,
   "id": "791c2359",
   "metadata": {},
   "outputs": [
    {
     "data": {
      "text/plain": [
       "([1, 2, 3, 6, 4], [1, 2, 3, 6, 4])"
      ]
     },
     "execution_count": 57,
     "metadata": {},
     "output_type": "execute_result"
    }
   ],
   "source": [
    "# 10 clone\n",
    "list8 = [1,2,3,6,4]\n",
    "list9= list8\n",
    "list8,list9"
   ]
  },
  {
   "cell_type": "code",
   "execution_count": 58,
   "id": "84a161eb",
   "metadata": {},
   "outputs": [
    {
     "name": "stdout",
     "output_type": "stream",
     "text": [
      "[1, 2, 3, 4]\n",
      "[1, 2, 3, 4]\n"
     ]
    }
   ],
   "source": [
    "# copy a list\n",
    "\n",
    "a = [1,2,3,4]\n",
    "b = a.copy()\n",
    "print(a)\n",
    "print(b)"
   ]
  },
  {
   "cell_type": "code",
   "execution_count": 3,
   "id": "fb68dbfb",
   "metadata": {},
   "outputs": [
    {
     "name": "stdout",
     "output_type": "stream",
     "text": [
      "2\n"
     ]
    }
   ],
   "source": [
    "# 11  Python | Count occurrences of an element in a list\n",
    "colors = [\"voilet\", \"green\", \"indigo\", \"blue\", \"green\"]\n",
    "print(colors.count(\"green\"))"
   ]
  },
  {
   "cell_type": "code",
   "execution_count": null,
   "id": "e3fe6753",
   "metadata": {},
   "outputs": [],
   "source": []
  },
  {
   "cell_type": "code",
   "execution_count": 2,
   "id": "386db001",
   "metadata": {},
   "outputs": [],
   "source": [
    "# 12 find sum and avg."
   ]
  },
  {
   "cell_type": "code",
   "execution_count": 1,
   "id": "cb8556f2",
   "metadata": {},
   "outputs": [
    {
     "name": "stdout",
     "output_type": "stream",
     "text": [
      "sum =  46\n",
      "average =  5.75\n"
     ]
    }
   ],
   "source": [
    "L = [4, 5, 1, 2, 9, 7, 10, 8]\n",
    " \n",
    "# Finding the sum\n",
    "sum = sum(L)\n",
    " \n",
    "# Finding the average\n",
    "avg = sum/len(L)\n",
    " \n",
    "print(\"sum = \", sum)\n",
    "print(\"average = \", avg)"
   ]
  },
  {
   "cell_type": "code",
   "execution_count": null,
   "id": "8a463ff5",
   "metadata": {},
   "outputs": [],
   "source": []
  },
  {
   "cell_type": "code",
   "execution_count": 7,
   "id": "d85d965d",
   "metadata": {},
   "outputs": [],
   "source": [
    "# 14 multipy all the number in the list"
   ]
  },
  {
   "cell_type": "code",
   "execution_count": 6,
   "id": "a2e6ec8e",
   "metadata": {},
   "outputs": [
    {
     "name": "stdout",
     "output_type": "stream",
     "text": [
      "6\n"
     ]
    }
   ],
   "source": [
    "list13= [1,2,3]\n",
    "a = (list13[0])\n",
    "b = (list13[1])\n",
    "c = (list13[2])\n",
    "multiply = a*b*c\n",
    "print(multiply)"
   ]
  },
  {
   "cell_type": "code",
   "execution_count": null,
   "id": "e7decfb8",
   "metadata": {},
   "outputs": [],
   "source": [
    "# 15 "
   ]
  },
  {
   "cell_type": "code",
   "execution_count": 5,
   "id": "29e51f4a",
   "metadata": {},
   "outputs": [
    {
     "name": "stdout",
     "output_type": "stream",
     "text": [
      "Smallest element is: 4\n"
     ]
    }
   ],
   "source": [
    "# Python program to find smallest \n",
    "# number in a list\n",
    "\n",
    "# list of numbers\n",
    "list17 = [10, 20, 4, 45, 99]\n",
    "\n",
    "# sorting the list\n",
    "list17.sort()\n",
    "\n",
    "# printing the first element\n",
    "print(\"Smallest element is:\", list17[0])\n"
   ]
  },
  {
   "cell_type": "code",
   "execution_count": 10,
   "id": "623e0fb0",
   "metadata": {},
   "outputs": [
    {
     "name": "stdout",
     "output_type": "stream",
     "text": [
      "[2, 2, 3, 4, 5, 9]\n",
      "9\n"
     ]
    }
   ],
   "source": [
    "# 16 to find largest number (first sort in decending) \n",
    "# 2 ways to solve.\n",
    "list19 = [2,3,4,2,9,5]\n",
    "list19.sort()\n",
    "print(list19)\n",
    "print(list19[-1])"
   ]
  },
  {
   "cell_type": "code",
   "execution_count": 6,
   "id": "d0e85261",
   "metadata": {},
   "outputs": [
    {
     "name": "stdout",
     "output_type": "stream",
     "text": [
      "[9, 8, 6, 5, 3, 3, 3]\n",
      "9\n"
     ]
    }
   ],
   "source": [
    "list18 = [3,5,6,3,9,3,8]\n",
    "list18.sort(reverse=True)\n",
    "print(list18)\n",
    "print(list18[0])"
   ]
  },
  {
   "cell_type": "code",
   "execution_count": 11,
   "id": "7b2bfe07",
   "metadata": {},
   "outputs": [],
   "source": [
    "# 17 Python program to find second largest number in a list"
   ]
  },
  {
   "cell_type": "code",
   "execution_count": 13,
   "id": "05f622fd",
   "metadata": {},
   "outputs": [
    {
     "name": "stdout",
     "output_type": "stream",
     "text": [
      "[12, 40, 50, 90, 100]\n",
      "90\n"
     ]
    }
   ],
   "source": [
    "list20 = [12,50,90,40,100]\n",
    "list20.sort()\n",
    "print(list20)\n",
    "print(list20[-2])"
   ]
  },
  {
   "cell_type": "code",
   "execution_count": 22,
   "id": "45483f14",
   "metadata": {},
   "outputs": [
    {
     "name": "stdout",
     "output_type": "stream",
     "text": [
      "2\n",
      "4\n",
      "6\n",
      "8\n"
     ]
    }
   ],
   "source": [
    "# 18\n",
    "# Python program to print Even Numbers in a List\n",
    "list23 = [1,2,3,4,5,6,7,8,9]\n",
    "for i in list23:\n",
    "    if i%2==0:\n",
    "        print(i)"
   ]
  },
  {
   "cell_type": "code",
   "execution_count": 21,
   "id": "a440be74",
   "metadata": {},
   "outputs": [
    {
     "name": "stdout",
     "output_type": "stream",
     "text": [
      "2 4 6 8 "
     ]
    }
   ],
   "source": [
    "# Python program to print Even Numbers in a List\n",
    "list23 = [1,2,3,4,5,6,7,8,9]\n",
    "for i in list23:\n",
    "    if i%2==0:\n",
    "        print(i, end=\" \")"
   ]
  },
  {
   "cell_type": "code",
   "execution_count": 7,
   "id": "3d0f7ab3",
   "metadata": {},
   "outputs": [],
   "source": [
    "# 19 print odd no. from lists"
   ]
  },
  {
   "cell_type": "code",
   "execution_count": 18,
   "id": "d3bd04d1",
   "metadata": {},
   "outputs": [
    {
     "name": "stdout",
     "output_type": "stream",
     "text": [
      "1\n",
      "3\n",
      "5\n",
      "7\n",
      "9\n"
     ]
    }
   ],
   "source": [
    "list21 = [1,2,3,4,5,6,7,8,9]\n",
    "for i in list21:\n",
    "    if i%2!=0:\n",
    "        print(i)"
   ]
  },
  {
   "cell_type": "code",
   "execution_count": 19,
   "id": "e48cddfd",
   "metadata": {},
   "outputs": [
    {
     "name": "stdout",
     "output_type": "stream",
     "text": [
      "1 3 5 7 9 "
     ]
    }
   ],
   "source": [
    "list21 = [1,2,3,4,5,6,7,8,9]\n",
    "for i in list21:\n",
    "    if i%2!=0:\n",
    "        print(i, end = \" \")  # end=\" \" means print in same line."
   ]
  },
  {
   "cell_type": "code",
   "execution_count": 23,
   "id": "e4fbd3d5",
   "metadata": {},
   "outputs": [],
   "source": [
    "# 20 print even no.in range"
   ]
  },
  {
   "cell_type": "code",
   "execution_count": null,
   "id": "9cb6144a",
   "metadata": {},
   "outputs": [],
   "source": []
  },
  {
   "cell_type": "code",
   "execution_count": 36,
   "id": "df0d04a3",
   "metadata": {},
   "outputs": [
    {
     "name": "stdout",
     "output_type": "stream",
     "text": [
      "4\n",
      "7\n",
      "10\n",
      "13\n"
     ]
    }
   ],
   "source": [
    "# Python program to print all even numbers in range\n",
    "for i in range(4,15,3):\n",
    "#here inside range function first no denotes starting,\n",
    "#second denotes end and\n",
    "#third denotes the interval\n",
    "\tprint(i)\n"
   ]
  },
  {
   "cell_type": "code",
   "execution_count": null,
   "id": "1f4e0e45",
   "metadata": {},
   "outputs": [],
   "source": []
  },
  {
   "cell_type": "code",
   "execution_count": 23,
   "id": "6be68b97",
   "metadata": {},
   "outputs": [
    {
     "ename": "TypeError",
     "evalue": "unsupported operand type(s) for %: 'list' and 'int'",
     "output_type": "error",
     "traceback": [
      "\u001b[1;31m---------------------------------------------------------------------------\u001b[0m",
      "\u001b[1;31mTypeError\u001b[0m                                 Traceback (most recent call last)",
      "Cell \u001b[1;32mIn[23], line 2\u001b[0m\n\u001b[0;32m      1\u001b[0m a \u001b[38;5;241m=\u001b[39m[\u001b[38;5;241m2\u001b[39m,\u001b[38;5;241m3\u001b[39m,\u001b[38;5;241m4\u001b[39m,\u001b[38;5;241m5\u001b[39m,\u001b[38;5;241m6\u001b[39m,\u001b[38;5;241m6\u001b[39m,\u001b[38;5;241m7\u001b[39m,\u001b[38;5;241m8\u001b[39m,\u001b[38;5;241m9\u001b[39m]\n\u001b[1;32m----> 2\u001b[0m \u001b[38;5;28;01mif\u001b[39;00m a\u001b[38;5;241m%\u001b[39m\u001b[38;5;241m2\u001b[39m\u001b[38;5;241m==\u001b[39m\u001b[38;5;241m0\u001b[39m:\n\u001b[0;32m      3\u001b[0m     \u001b[38;5;28mprint\u001b[39m(a\u001b[38;5;241m.\u001b[39mcount[a])\n\u001b[0;32m      4\u001b[0m \u001b[38;5;28;01melif\u001b[39;00m a\u001b[38;5;241m%\u001b[39m\u001b[38;5;241m2\u001b[39m\u001b[38;5;241m!=\u001b[39m\u001b[38;5;241m0\u001b[39m:\n",
      "\u001b[1;31mTypeError\u001b[0m: unsupported operand type(s) for %: 'list' and 'int'"
     ]
    }
   ],
   "source": []
  },
  {
   "cell_type": "code",
   "execution_count": null,
   "id": "29be0175",
   "metadata": {},
   "outputs": [],
   "source": []
  }
 ],
 "metadata": {
  "kernelspec": {
   "display_name": "Python 3 (ipykernel)",
   "language": "python",
   "name": "python3"
  },
  "language_info": {
   "codemirror_mode": {
    "name": "ipython",
    "version": 3
   },
   "file_extension": ".py",
   "mimetype": "text/x-python",
   "name": "python",
   "nbconvert_exporter": "python",
   "pygments_lexer": "ipython3",
   "version": "3.11.4"
  }
 },
 "nbformat": 4,
 "nbformat_minor": 5
}
