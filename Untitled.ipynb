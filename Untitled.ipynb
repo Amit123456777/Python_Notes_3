{
 "cells": [
  {
   "cell_type": "code",
   "execution_count": 1,
   "id": "b02b0360-2ef6-41a7-b873-e3c50ce7984c",
   "metadata": {},
   "outputs": [],
   "source": [
    "import numpy as np\n"
   ]
  },
  {
   "cell_type": "code",
   "execution_count": 2,
   "id": "04acf906-a1b4-4803-a1d1-14e0626d4884",
   "metadata": {},
   "outputs": [
    {
     "name": "stdout",
     "output_type": "stream",
     "text": [
      "1.0\n"
     ]
    }
   ],
   "source": [
    "x = np.float32(1.0)\n",
    "print(x)"
   ]
  },
  {
   "cell_type": "code",
   "execution_count": 3,
   "id": "9faf1d95-5873-424d-a17f-143d8d305ae9",
   "metadata": {},
   "outputs": [
    {
     "data": {
      "text/plain": [
       "numpy.float32"
      ]
     },
     "execution_count": 3,
     "metadata": {},
     "output_type": "execute_result"
    }
   ],
   "source": [
    "type(x)"
   ]
  },
  {
   "cell_type": "code",
   "execution_count": 4,
   "id": "fd385233-0bc7-43e6-b878-80a8088fda7f",
   "metadata": {},
   "outputs": [
    {
     "name": "stdout",
     "output_type": "stream",
     "text": [
      "4.5\n"
     ]
    }
   ],
   "source": [
    "x = np.float64(4.5)\n",
    "print(x)"
   ]
  },
  {
   "cell_type": "code",
   "execution_count": 69,
   "id": "acb3837d-5e0c-423f-b53a-bf36e6124d5a",
   "metadata": {},
   "outputs": [
    {
     "name": "stdout",
     "output_type": "stream",
     "text": [
      "[1 2 3 4]\n"
     ]
    }
   ],
   "source": [
    "x = np.int_([1,2,3,4])\n",
    "print(x)"
   ]
  },
  {
   "cell_type": "code",
   "execution_count": 6,
   "id": "e21e6340-ff96-4698-be1d-0476a1e84877",
   "metadata": {},
   "outputs": [
    {
     "name": "stdout",
     "output_type": "stream",
     "text": [
      "[1 2 4]\n"
     ]
    }
   ],
   "source": [
    "x = np.int_([1,2,4])\n",
    "print(x)"
   ]
  },
  {
   "cell_type": "code",
   "execution_count": 8,
   "id": "8fd284a4-1f6c-4af4-b8e5-318cffd36886",
   "metadata": {},
   "outputs": [
    {
     "name": "stdout",
     "output_type": "stream",
     "text": [
      "[0 1 2]\n"
     ]
    }
   ],
   "source": [
    "x = np.arange(3, dtype= np.uint8)\n",
    "print(x)"
   ]
  },
  {
   "cell_type": "code",
   "execution_count": 11,
   "id": "c53924bd-e038-477e-90d3-c6f668811729",
   "metadata": {},
   "outputs": [
    {
     "name": "stdout",
     "output_type": "stream",
     "text": [
      "[1. 2. 3.]\n"
     ]
    }
   ],
   "source": [
    "x = np.array([1,2,3], dtype = 'f')\n",
    "print(x)"
   ]
  },
  {
   "cell_type": "code",
   "execution_count": 84,
   "id": "f669b062-8367-480c-a5c7-a8dc0cb60b79",
   "metadata": {},
   "outputs": [
    {
     "name": "stdout",
     "output_type": "stream",
     "text": [
      "127\n"
     ]
    },
    {
     "name": "stderr",
     "output_type": "stream",
     "text": [
      "C:\\Users\\Rahul\\AppData\\Local\\Temp\\ipykernel_7576\\2408432577.py:1: DeprecationWarning: NumPy will stop allowing conversion of out-of-bound Python integers to integer arrays.  The conversion of -129 to int8 will fail in the future.\n",
      "For the old behavior, usually:\n",
      "    np.array(value).astype(dtype)`\n",
      "will give the desired result (the cast overflows).\n",
      "  x = np.int8(-129)\n"
     ]
    }
   ],
   "source": [
    "x = np.int8(-129)\n",
    "print(x)"
   ]
  },
  {
   "cell_type": "code",
   "execution_count": 27,
   "id": "8309c7bf-0a85-49ab-9a44-a5b6a390f16c",
   "metadata": {},
   "outputs": [
    {
     "name": "stdout",
     "output_type": "stream",
     "text": [
      "[1 2 3 7]\n"
     ]
    }
   ],
   "source": [
    "arr_int = np.array([1.0,2.0,3,7.89], dtype= np.int32)\n",
    "print(arr_int)"
   ]
  },
  {
   "cell_type": "code",
   "execution_count": 28,
   "id": "b6456393-7c88-4f77-9c1c-268cab57b8f8",
   "metadata": {},
   "outputs": [
    {
     "name": "stdout",
     "output_type": "stream",
     "text": [
      "[1.  2.5 3.7 6.  7. ]\n"
     ]
    }
   ],
   "source": [
    "arr_float = np.array([1.0, 2.5,3.7,6,7], dtype = np.float64)\n",
    "print(arr_float)"
   ]
  },
  {
   "cell_type": "code",
   "execution_count": 31,
   "id": "cbd8c6a8-7cc3-4056-b37c-2dd6f1a9db1c",
   "metadata": {},
   "outputs": [
    {
     "name": "stdout",
     "output_type": "stream",
     "text": [
      "[ True False  True]\n"
     ]
    }
   ],
   "source": [
    "# creating an array of booleans\n",
    "arr_bool = np.array([True, False, True], dtype= np.bool_)\n",
    "print(arr_bool)"
   ]
  },
  {
   "cell_type": "code",
   "execution_count": 33,
   "id": "8c4d6271-4496-4d29-8470-aa6bb70f97a9",
   "metadata": {},
   "outputs": [
    {
     "name": "stdout",
     "output_type": "stream",
     "text": [
      "[1.+2.j 3.-4.j]\n"
     ]
    }
   ],
   "source": [
    "arr_complex = np.array([1+2j, 3-4j], dtype=np.complex128)\n",
    "print(arr_complex)"
   ]
  },
  {
   "cell_type": "code",
   "execution_count": 35,
   "id": "313a8681-95ef-4f4b-af31-6186e147a96f",
   "metadata": {},
   "outputs": [
    {
     "name": "stdout",
     "output_type": "stream",
     "text": [
      "[b'hello' b'world']\n"
     ]
    }
   ],
   "source": [
    "arr_str = np.array(['hello', 'world'], dtype = np.string_)\n",
    "print(arr_str)"
   ]
  },
  {
   "cell_type": "code",
   "execution_count": 36,
   "id": "bf0f94c6-a39d-4162-9175-cffb533b8b43",
   "metadata": {},
   "outputs": [
    {
     "name": "stdout",
     "output_type": "stream",
     "text": [
      "['2024-04-24' '2024-04-25']\n"
     ]
    }
   ],
   "source": [
    "arr_datetime = np.array(['2024-04-24', '2024-04-25'], dtype = np.datetime64)\n",
    "print(arr_datetime)"
   ]
  },
  {
   "cell_type": "code",
   "execution_count": null,
   "id": "3122a02f-34f7-49e2-ac4b-3e35005714a6",
   "metadata": {},
   "outputs": [],
   "source": []
  },
  {
   "cell_type": "markdown",
   "id": "84eabd52-1d14-43f4-a6cd-53a2aa38ad0e",
   "metadata": {},
   "source": [
    "# 2  Array Creation"
   ]
  },
  {
   "cell_type": "code",
   "execution_count": 37,
   "id": "fb0ec5b1-94ee-49a5-b35c-b0e0ba6d09fc",
   "metadata": {},
   "outputs": [],
   "source": [
    "# Instrinsic Array Creation\n",
    "\n",
    "import numpy as np"
   ]
  },
  {
   "cell_type": "code",
   "execution_count": 38,
   "id": "a8c18e31-d8f8-4122-ab80-c30073974bd9",
   "metadata": {},
   "outputs": [
    {
     "data": {
      "text/plain": [
       "array([[0., 0., 0., 0., 0., 0., 0., 0.],\n",
       "       [0., 0., 0., 0., 0., 0., 0., 0.],\n",
       "       [0., 0., 0., 0., 0., 0., 0., 0.],\n",
       "       [0., 0., 0., 0., 0., 0., 0., 0.],\n",
       "       [0., 0., 0., 0., 0., 0., 0., 0.],\n",
       "       [0., 0., 0., 0., 0., 0., 0., 0.],\n",
       "       [0., 0., 0., 0., 0., 0., 0., 0.]])"
      ]
     },
     "execution_count": 38,
     "metadata": {},
     "output_type": "execute_result"
    }
   ],
   "source": [
    "np.zeros((7,8))\n"
   ]
  },
  {
   "cell_type": "code",
   "execution_count": 39,
   "id": "95ad3276-8d98-4c3d-a4e1-77e0c7597b4c",
   "metadata": {},
   "outputs": [
    {
     "data": {
      "text/plain": [
       "array([[1., 1., 1., 1., 1., 1.],\n",
       "       [1., 1., 1., 1., 1., 1.],\n",
       "       [1., 1., 1., 1., 1., 1.],\n",
       "       [1., 1., 1., 1., 1., 1.],\n",
       "       [1., 1., 1., 1., 1., 1.]])"
      ]
     },
     "execution_count": 39,
     "metadata": {},
     "output_type": "execute_result"
    }
   ],
   "source": [
    "np.ones((5,6))"
   ]
  },
  {
   "cell_type": "code",
   "execution_count": 40,
   "id": "17773420-42a1-4884-b0a9-a4bfa0c9bc8e",
   "metadata": {},
   "outputs": [
    {
     "data": {
      "text/plain": [
       "array([0, 1, 2, 3, 4, 5, 6, 7, 8, 9])"
      ]
     },
     "execution_count": 40,
     "metadata": {},
     "output_type": "execute_result"
    }
   ],
   "source": [
    "np.arange(10)\n",
    "\n",
    "# it gives an array on the given range"
   ]
  },
  {
   "cell_type": "code",
   "execution_count": 42,
   "id": "2078ac8a-9a41-446c-883f-99949a294662",
   "metadata": {},
   "outputs": [
    {
     "data": {
      "text/plain": [
       "array([2, 3, 4, 5, 6, 7, 8, 9])"
      ]
     },
     "execution_count": 42,
     "metadata": {},
     "output_type": "execute_result"
    }
   ],
   "source": [
    "np.arange(2, 10)\n",
    "         # start, end, step"
   ]
  },
  {
   "cell_type": "code",
   "execution_count": 45,
   "id": "f9375c26-3d58-4b8e-bd55-0dc93b13b394",
   "metadata": {},
   "outputs": [
    {
     "data": {
      "text/plain": [
       "array([3.5, 3.7, 3.9, 4.1, 4.3, 4.5, 4.7, 4.9, 5.1, 5.3, 5.5, 5.7, 5.9,\n",
       "       6.1, 6.3, 6.5, 6.7, 6.9, 7.1, 7.3, 7.5, 7.7, 7.9, 8.1, 8.3, 8.5,\n",
       "       8.7, 8.9, 9.1, 9.3, 9.5, 9.7])"
      ]
     },
     "execution_count": 45,
     "metadata": {},
     "output_type": "execute_result"
    }
   ],
   "source": [
    "np.arange(3.5, 9.8, 0.2)"
   ]
  },
  {
   "cell_type": "code",
   "execution_count": 47,
   "id": "9848b02a-9366-461a-a5c8-5e1fa3a656e8",
   "metadata": {},
   "outputs": [
    {
     "data": {
      "text/plain": [
       "array([2., 3., 4., 5., 6., 7., 8., 9.])"
      ]
     },
     "execution_count": 47,
     "metadata": {},
     "output_type": "execute_result"
    }
   ],
   "source": [
    "np.arange(2, 10, dtype = float)"
   ]
  },
  {
   "cell_type": "code",
   "execution_count": 48,
   "id": "cb0ec3f7-0e3b-4095-b898-19ca54a89f98",
   "metadata": {},
   "outputs": [
    {
     "data": {
      "text/plain": [
       "array([2. , 2.2, 2.4, 2.6, 2.8, 3. , 3.2, 3.4, 3.6, 3.8, 4. , 4.2, 4.4,\n",
       "       4.6, 4.8, 5. , 5.2, 5.4, 5.6, 5.8, 6. , 6.2, 6.4, 6.6, 6.8, 7. ,\n",
       "       7.2, 7.4, 7.6, 7.8, 8. , 8.2, 8.4, 8.6, 8.8, 9. , 9.2, 9.4, 9.6,\n",
       "       9.8])"
      ]
     },
     "execution_count": 48,
     "metadata": {},
     "output_type": "execute_result"
    }
   ],
   "source": [
    "np.arange(2, 10, 0.2)"
   ]
  },
  {
   "cell_type": "code",
   "execution_count": 50,
   "id": "ccbac4dc-87f0-4756-9a87-2fe006607567",
   "metadata": {},
   "outputs": [
    {
     "name": "stdout",
     "output_type": "stream",
     "text": [
      "Help on class int8 in module numpy:\n",
      "\n",
      "class int8(signedinteger)\n",
      " |  Signed integer type, compatible with C ``char``.\n",
      " |  \n",
      " |  :Character code: ``'b'``\n",
      " |  :Canonical name: `numpy.byte`\n",
      " |  :Alias on this platform (win32 AMD64): `numpy.int8`: 8-bit signed integer (``-128`` to ``127``).\n",
      " |  \n",
      " |  Method resolution order:\n",
      " |      int8\n",
      " |      signedinteger\n",
      " |      integer\n",
      " |      number\n",
      " |      generic\n",
      " |      builtins.object\n",
      " |  \n",
      " |  Methods defined here:\n",
      " |  \n",
      " |  __abs__(self, /)\n",
      " |      abs(self)\n",
      " |  \n",
      " |  __add__(self, value, /)\n",
      " |      Return self+value.\n",
      " |  \n",
      " |  __and__(self, value, /)\n",
      " |      Return self&value.\n",
      " |  \n",
      " |  __bool__(self, /)\n",
      " |      True if self else False\n",
      " |  \n",
      " |  __divmod__(self, value, /)\n",
      " |      Return divmod(self, value).\n",
      " |  \n",
      " |  __eq__(self, value, /)\n",
      " |      Return self==value.\n",
      " |  \n",
      " |  __float__(self, /)\n",
      " |      float(self)\n",
      " |  \n",
      " |  __floordiv__(self, value, /)\n",
      " |      Return self//value.\n",
      " |  \n",
      " |  __ge__(self, value, /)\n",
      " |      Return self>=value.\n",
      " |  \n",
      " |  __gt__(self, value, /)\n",
      " |      Return self>value.\n",
      " |  \n",
      " |  __hash__(self, /)\n",
      " |      Return hash(self).\n",
      " |  \n",
      " |  __index__(self, /)\n",
      " |      Return self converted to an integer, if self is suitable for use as an index into a list.\n",
      " |  \n",
      " |  __int__(self, /)\n",
      " |      int(self)\n",
      " |  \n",
      " |  __invert__(self, /)\n",
      " |      ~self\n",
      " |  \n",
      " |  __le__(self, value, /)\n",
      " |      Return self<=value.\n",
      " |  \n",
      " |  __lshift__(self, value, /)\n",
      " |      Return self<<value.\n",
      " |  \n",
      " |  __lt__(self, value, /)\n",
      " |      Return self<value.\n",
      " |  \n",
      " |  __mod__(self, value, /)\n",
      " |      Return self%value.\n",
      " |  \n",
      " |  __mul__(self, value, /)\n",
      " |      Return self*value.\n",
      " |  \n",
      " |  __ne__(self, value, /)\n",
      " |      Return self!=value.\n",
      " |  \n",
      " |  __neg__(self, /)\n",
      " |      -self\n",
      " |  \n",
      " |  __or__(self, value, /)\n",
      " |      Return self|value.\n",
      " |  \n",
      " |  __pos__(self, /)\n",
      " |      +self\n",
      " |  \n",
      " |  __pow__(self, value, mod=None, /)\n",
      " |      Return pow(self, value, mod).\n",
      " |  \n",
      " |  __radd__(self, value, /)\n",
      " |      Return value+self.\n",
      " |  \n",
      " |  __rand__(self, value, /)\n",
      " |      Return value&self.\n",
      " |  \n",
      " |  __rdivmod__(self, value, /)\n",
      " |      Return divmod(value, self).\n",
      " |  \n",
      " |  __repr__(self, /)\n",
      " |      Return repr(self).\n",
      " |  \n",
      " |  __rfloordiv__(self, value, /)\n",
      " |      Return value//self.\n",
      " |  \n",
      " |  __rlshift__(self, value, /)\n",
      " |      Return value<<self.\n",
      " |  \n",
      " |  __rmod__(self, value, /)\n",
      " |      Return value%self.\n",
      " |  \n",
      " |  __rmul__(self, value, /)\n",
      " |      Return value*self.\n",
      " |  \n",
      " |  __ror__(self, value, /)\n",
      " |      Return value|self.\n",
      " |  \n",
      " |  __rpow__(self, value, mod=None, /)\n",
      " |      Return pow(value, self, mod).\n",
      " |  \n",
      " |  __rrshift__(self, value, /)\n",
      " |      Return value>>self.\n",
      " |  \n",
      " |  __rshift__(self, value, /)\n",
      " |      Return self>>value.\n",
      " |  \n",
      " |  __rsub__(self, value, /)\n",
      " |      Return value-self.\n",
      " |  \n",
      " |  __rtruediv__(self, value, /)\n",
      " |      Return value/self.\n",
      " |  \n",
      " |  __rxor__(self, value, /)\n",
      " |      Return value^self.\n",
      " |  \n",
      " |  __str__(self, /)\n",
      " |      Return str(self).\n",
      " |  \n",
      " |  __sub__(self, value, /)\n",
      " |      Return self-value.\n",
      " |  \n",
      " |  __truediv__(self, value, /)\n",
      " |      Return self/value.\n",
      " |  \n",
      " |  __xor__(self, value, /)\n",
      " |      Return self^value.\n",
      " |  \n",
      " |  bit_count(...)\n",
      " |      int8.bit_count() -> int\n",
      " |      \n",
      " |      Computes the number of 1-bits in the absolute value of the input.\n",
      " |      Analogous to the builtin `int.bit_count` or ``popcount`` in C++.\n",
      " |      \n",
      " |      Examples\n",
      " |      --------\n",
      " |      >>> np.int8(127).bit_count()\n",
      " |      7\n",
      " |      >>> np.int8(-127).bit_count()\n",
      " |      7\n",
      " |  \n",
      " |  ----------------------------------------------------------------------\n",
      " |  Class methods defined here:\n",
      " |  \n",
      " |  __class_getitem__(...) from builtins.type\n",
      " |      __class_getitem__(item, /)\n",
      " |      \n",
      " |      Return a parametrized wrapper around the `~numpy.number` type.\n",
      " |      \n",
      " |      .. versionadded:: 1.22\n",
      " |      \n",
      " |      Returns\n",
      " |      -------\n",
      " |      alias : types.GenericAlias\n",
      " |          A parametrized `~numpy.number` type.\n",
      " |      \n",
      " |      Examples\n",
      " |      --------\n",
      " |      >>> from typing import Any\n",
      " |      >>> import numpy as np\n",
      " |      \n",
      " |      >>> np.signedinteger[Any]\n",
      " |      numpy.signedinteger[typing.Any]\n",
      " |      \n",
      " |      Notes\n",
      " |      -----\n",
      " |      This method is only available for python 3.9 and later.\n",
      " |      \n",
      " |      See Also\n",
      " |      --------\n",
      " |      :pep:`585` : Type hinting generics in standard collections.\n",
      " |  \n",
      " |  ----------------------------------------------------------------------\n",
      " |  Static methods defined here:\n",
      " |  \n",
      " |  __new__(*args, **kwargs) from builtins.type\n",
      " |      Create and return a new object.  See help(type) for accurate signature.\n",
      " |  \n",
      " |  ----------------------------------------------------------------------\n",
      " |  Methods inherited from integer:\n",
      " |  \n",
      " |  __round__(...)\n",
      " |  \n",
      " |  is_integer(...)\n",
      " |      integer.is_integer() -> bool\n",
      " |      \n",
      " |      Return ``True`` if the number is finite with integral value.\n",
      " |      \n",
      " |      .. versionadded:: 1.22\n",
      " |      \n",
      " |      Examples\n",
      " |      --------\n",
      " |      >>> np.int64(-2).is_integer()\n",
      " |      True\n",
      " |      >>> np.uint32(5).is_integer()\n",
      " |      True\n",
      " |  \n",
      " |  ----------------------------------------------------------------------\n",
      " |  Data descriptors inherited from integer:\n",
      " |  \n",
      " |  denominator\n",
      " |      denominator of value (1)\n",
      " |  \n",
      " |  numerator\n",
      " |      numerator of value (the value itself)\n",
      " |  \n",
      " |  ----------------------------------------------------------------------\n",
      " |  Methods inherited from generic:\n",
      " |  \n",
      " |  __array__(...)\n",
      " |      sc.__array__(dtype) return 0-dim array from scalar with specified dtype\n",
      " |  \n",
      " |  __array_wrap__(...)\n",
      " |      sc.__array_wrap__(obj) return scalar from array\n",
      " |  \n",
      " |  __copy__(...)\n",
      " |  \n",
      " |  __deepcopy__(...)\n",
      " |  \n",
      " |  __format__(...)\n",
      " |      NumPy array scalar formatter\n",
      " |  \n",
      " |  __getitem__(self, key, /)\n",
      " |      Return self[key].\n",
      " |  \n",
      " |  __reduce__(...)\n",
      " |      Helper for pickle.\n",
      " |  \n",
      " |  __setstate__(...)\n",
      " |  \n",
      " |  __sizeof__(...)\n",
      " |      Size of object in memory, in bytes.\n",
      " |  \n",
      " |  all(...)\n",
      " |      Scalar method identical to the corresponding array attribute.\n",
      " |      \n",
      " |      Please see `ndarray.all`.\n",
      " |  \n",
      " |  any(...)\n",
      " |      Scalar method identical to the corresponding array attribute.\n",
      " |      \n",
      " |      Please see `ndarray.any`.\n",
      " |  \n",
      " |  argmax(...)\n",
      " |      Scalar method identical to the corresponding array attribute.\n",
      " |      \n",
      " |      Please see `ndarray.argmax`.\n",
      " |  \n",
      " |  argmin(...)\n",
      " |      Scalar method identical to the corresponding array attribute.\n",
      " |      \n",
      " |      Please see `ndarray.argmin`.\n",
      " |  \n",
      " |  argsort(...)\n",
      " |      Scalar method identical to the corresponding array attribute.\n",
      " |      \n",
      " |      Please see `ndarray.argsort`.\n",
      " |  \n",
      " |  astype(...)\n",
      " |      Scalar method identical to the corresponding array attribute.\n",
      " |      \n",
      " |      Please see `ndarray.astype`.\n",
      " |  \n",
      " |  byteswap(...)\n",
      " |      Scalar method identical to the corresponding array attribute.\n",
      " |      \n",
      " |      Please see `ndarray.byteswap`.\n",
      " |  \n",
      " |  choose(...)\n",
      " |      Scalar method identical to the corresponding array attribute.\n",
      " |      \n",
      " |      Please see `ndarray.choose`.\n",
      " |  \n",
      " |  clip(...)\n",
      " |      Scalar method identical to the corresponding array attribute.\n",
      " |      \n",
      " |      Please see `ndarray.clip`.\n",
      " |  \n",
      " |  compress(...)\n",
      " |      Scalar method identical to the corresponding array attribute.\n",
      " |      \n",
      " |      Please see `ndarray.compress`.\n",
      " |  \n",
      " |  conj(...)\n",
      " |  \n",
      " |  conjugate(...)\n",
      " |      Scalar method identical to the corresponding array attribute.\n",
      " |      \n",
      " |      Please see `ndarray.conjugate`.\n",
      " |  \n",
      " |  copy(...)\n",
      " |      Scalar method identical to the corresponding array attribute.\n",
      " |      \n",
      " |      Please see `ndarray.copy`.\n",
      " |  \n",
      " |  cumprod(...)\n",
      " |      Scalar method identical to the corresponding array attribute.\n",
      " |      \n",
      " |      Please see `ndarray.cumprod`.\n",
      " |  \n",
      " |  cumsum(...)\n",
      " |      Scalar method identical to the corresponding array attribute.\n",
      " |      \n",
      " |      Please see `ndarray.cumsum`.\n",
      " |  \n",
      " |  diagonal(...)\n",
      " |      Scalar method identical to the corresponding array attribute.\n",
      " |      \n",
      " |      Please see `ndarray.diagonal`.\n",
      " |  \n",
      " |  dump(...)\n",
      " |      Scalar method identical to the corresponding array attribute.\n",
      " |      \n",
      " |      Please see `ndarray.dump`.\n",
      " |  \n",
      " |  dumps(...)\n",
      " |      Scalar method identical to the corresponding array attribute.\n",
      " |      \n",
      " |      Please see `ndarray.dumps`.\n",
      " |  \n",
      " |  fill(...)\n",
      " |      Scalar method identical to the corresponding array attribute.\n",
      " |      \n",
      " |      Please see `ndarray.fill`.\n",
      " |  \n",
      " |  flatten(...)\n",
      " |      Scalar method identical to the corresponding array attribute.\n",
      " |      \n",
      " |      Please see `ndarray.flatten`.\n",
      " |  \n",
      " |  getfield(...)\n",
      " |      Scalar method identical to the corresponding array attribute.\n",
      " |      \n",
      " |      Please see `ndarray.getfield`.\n",
      " |  \n",
      " |  item(...)\n",
      " |      Scalar method identical to the corresponding array attribute.\n",
      " |      \n",
      " |      Please see `ndarray.item`.\n",
      " |  \n",
      " |  itemset(...)\n",
      " |      Scalar method identical to the corresponding array attribute.\n",
      " |      \n",
      " |      Please see `ndarray.itemset`.\n",
      " |  \n",
      " |  max(...)\n",
      " |      Scalar method identical to the corresponding array attribute.\n",
      " |      \n",
      " |      Please see `ndarray.max`.\n",
      " |  \n",
      " |  mean(...)\n",
      " |      Scalar method identical to the corresponding array attribute.\n",
      " |      \n",
      " |      Please see `ndarray.mean`.\n",
      " |  \n",
      " |  min(...)\n",
      " |      Scalar method identical to the corresponding array attribute.\n",
      " |      \n",
      " |      Please see `ndarray.min`.\n",
      " |  \n",
      " |  newbyteorder(...)\n",
      " |      newbyteorder(new_order='S', /)\n",
      " |      \n",
      " |      Return a new `dtype` with a different byte order.\n",
      " |      \n",
      " |      Changes are also made in all fields and sub-arrays of the data type.\n",
      " |      \n",
      " |      The `new_order` code can be any from the following:\n",
      " |      \n",
      " |      * 'S' - swap dtype from current to opposite endian\n",
      " |      * {'<', 'little'} - little endian\n",
      " |      * {'>', 'big'} - big endian\n",
      " |      * {'=', 'native'} - native order\n",
      " |      * {'|', 'I'} - ignore (no change to byte order)\n",
      " |      \n",
      " |      Parameters\n",
      " |      ----------\n",
      " |      new_order : str, optional\n",
      " |          Byte order to force; a value from the byte order specifications\n",
      " |          above.  The default value ('S') results in swapping the current\n",
      " |          byte order.\n",
      " |      \n",
      " |      \n",
      " |      Returns\n",
      " |      -------\n",
      " |      new_dtype : dtype\n",
      " |          New `dtype` object with the given change to the byte order.\n",
      " |  \n",
      " |  nonzero(...)\n",
      " |      Scalar method identical to the corresponding array attribute.\n",
      " |      \n",
      " |      Please see `ndarray.nonzero`.\n",
      " |  \n",
      " |  prod(...)\n",
      " |      Scalar method identical to the corresponding array attribute.\n",
      " |      \n",
      " |      Please see `ndarray.prod`.\n",
      " |  \n",
      " |  ptp(...)\n",
      " |      Scalar method identical to the corresponding array attribute.\n",
      " |      \n",
      " |      Please see `ndarray.ptp`.\n",
      " |  \n",
      " |  put(...)\n",
      " |      Scalar method identical to the corresponding array attribute.\n",
      " |      \n",
      " |      Please see `ndarray.put`.\n",
      " |  \n",
      " |  ravel(...)\n",
      " |      Scalar method identical to the corresponding array attribute.\n",
      " |      \n",
      " |      Please see `ndarray.ravel`.\n",
      " |  \n",
      " |  repeat(...)\n",
      " |      Scalar method identical to the corresponding array attribute.\n",
      " |      \n",
      " |      Please see `ndarray.repeat`.\n",
      " |  \n",
      " |  reshape(...)\n",
      " |      Scalar method identical to the corresponding array attribute.\n",
      " |      \n",
      " |      Please see `ndarray.reshape`.\n",
      " |  \n",
      " |  resize(...)\n",
      " |      Scalar method identical to the corresponding array attribute.\n",
      " |      \n",
      " |      Please see `ndarray.resize`.\n",
      " |  \n",
      " |  round(...)\n",
      " |      Scalar method identical to the corresponding array attribute.\n",
      " |      \n",
      " |      Please see `ndarray.round`.\n",
      " |  \n",
      " |  searchsorted(...)\n",
      " |      Scalar method identical to the corresponding array attribute.\n",
      " |      \n",
      " |      Please see `ndarray.searchsorted`.\n",
      " |  \n",
      " |  setfield(...)\n",
      " |      Scalar method identical to the corresponding array attribute.\n",
      " |      \n",
      " |      Please see `ndarray.setfield`.\n",
      " |  \n",
      " |  setflags(...)\n",
      " |      Scalar method identical to the corresponding array attribute.\n",
      " |      \n",
      " |      Please see `ndarray.setflags`.\n",
      " |  \n",
      " |  sort(...)\n",
      " |      Scalar method identical to the corresponding array attribute.\n",
      " |      \n",
      " |      Please see `ndarray.sort`.\n",
      " |  \n",
      " |  squeeze(...)\n",
      " |      Scalar method identical to the corresponding array attribute.\n",
      " |      \n",
      " |      Please see `ndarray.squeeze`.\n",
      " |  \n",
      " |  std(...)\n",
      " |      Scalar method identical to the corresponding array attribute.\n",
      " |      \n",
      " |      Please see `ndarray.std`.\n",
      " |  \n",
      " |  sum(...)\n",
      " |      Scalar method identical to the corresponding array attribute.\n",
      " |      \n",
      " |      Please see `ndarray.sum`.\n",
      " |  \n",
      " |  swapaxes(...)\n",
      " |      Scalar method identical to the corresponding array attribute.\n",
      " |      \n",
      " |      Please see `ndarray.swapaxes`.\n",
      " |  \n",
      " |  take(...)\n",
      " |      Scalar method identical to the corresponding array attribute.\n",
      " |      \n",
      " |      Please see `ndarray.take`.\n",
      " |  \n",
      " |  tobytes(...)\n",
      " |  \n",
      " |  tofile(...)\n",
      " |      Scalar method identical to the corresponding array attribute.\n",
      " |      \n",
      " |      Please see `ndarray.tofile`.\n",
      " |  \n",
      " |  tolist(...)\n",
      " |      Scalar method identical to the corresponding array attribute.\n",
      " |      \n",
      " |      Please see `ndarray.tolist`.\n",
      " |  \n",
      " |  tostring(...)\n",
      " |      Scalar method identical to the corresponding array attribute.\n",
      " |      \n",
      " |      Please see `ndarray.tostring`.\n",
      " |  \n",
      " |  trace(...)\n",
      " |      Scalar method identical to the corresponding array attribute.\n",
      " |      \n",
      " |      Please see `ndarray.trace`.\n",
      " |  \n",
      " |  transpose(...)\n",
      " |      Scalar method identical to the corresponding array attribute.\n",
      " |      \n",
      " |      Please see `ndarray.transpose`.\n",
      " |  \n",
      " |  var(...)\n",
      " |      Scalar method identical to the corresponding array attribute.\n",
      " |      \n",
      " |      Please see `ndarray.var`.\n",
      " |  \n",
      " |  view(...)\n",
      " |      Scalar method identical to the corresponding array attribute.\n",
      " |      \n",
      " |      Please see `ndarray.view`.\n",
      " |  \n",
      " |  ----------------------------------------------------------------------\n",
      " |  Data descriptors inherited from generic:\n",
      " |  \n",
      " |  T\n",
      " |      Scalar attribute identical to the corresponding array attribute.\n",
      " |      \n",
      " |      Please see `ndarray.T`.\n",
      " |  \n",
      " |  __array_interface__\n",
      " |      Array protocol: Python side\n",
      " |  \n",
      " |  __array_priority__\n",
      " |      Array priority.\n",
      " |  \n",
      " |  __array_struct__\n",
      " |      Array protocol: struct\n",
      " |  \n",
      " |  base\n",
      " |      Scalar attribute identical to the corresponding array attribute.\n",
      " |      \n",
      " |      Please see `ndarray.base`.\n",
      " |  \n",
      " |  data\n",
      " |      Pointer to start of data.\n",
      " |  \n",
      " |  dtype\n",
      " |      Get array data-descriptor.\n",
      " |  \n",
      " |  flags\n",
      " |      The integer value of flags.\n",
      " |  \n",
      " |  flat\n",
      " |      A 1-D view of the scalar.\n",
      " |  \n",
      " |  imag\n",
      " |      The imaginary part of the scalar.\n",
      " |  \n",
      " |  itemsize\n",
      " |      The length of one element in bytes.\n",
      " |  \n",
      " |  nbytes\n",
      " |      The length of the scalar in bytes.\n",
      " |  \n",
      " |  ndim\n",
      " |      The number of array dimensions.\n",
      " |  \n",
      " |  real\n",
      " |      The real part of the scalar.\n",
      " |  \n",
      " |  shape\n",
      " |      Tuple of array dimensions.\n",
      " |  \n",
      " |  size\n",
      " |      The number of elements in the gentype.\n",
      " |  \n",
      " |  strides\n",
      " |      Tuple of bytes steps in each dimension.\n",
      "\n"
     ]
    }
   ],
   "source": [
    "# for help\n",
    "help(np.int8)"
   ]
  },
  {
   "cell_type": "code",
   "execution_count": 60,
   "id": "2048f5bb-9196-42b5-a58c-fbe5b41e4242",
   "metadata": {},
   "outputs": [
    {
     "data": {
      "text/plain": [
       "array([ 4.,  8., 12., 16.])"
      ]
     },
     "execution_count": 60,
     "metadata": {},
     "output_type": "execute_result"
    }
   ],
   "source": [
    "np.linspace(4,16,4)\n",
    "# it gives 4 element. with equal space"
   ]
  },
  {
   "cell_type": "code",
   "execution_count": 63,
   "id": "37b75750-ce1e-470a-a74f-57219a8d22bd",
   "metadata": {},
   "outputs": [
    {
     "data": {
      "text/plain": [
       "array([[[[0],\n",
       "         [0],\n",
       "         [0]]],\n",
       "\n",
       "\n",
       "       [[[0],\n",
       "         [1],\n",
       "         [2]]],\n",
       "\n",
       "\n",
       "       [[[0],\n",
       "         [0],\n",
       "         [0]]]])"
      ]
     },
     "execution_count": 63,
     "metadata": {},
     "output_type": "execute_result"
    }
   ],
   "source": [
    "import numpy as np\n",
    "np.indices((1,3,1))"
   ]
  },
  {
   "cell_type": "code",
   "execution_count": 64,
   "id": "260e2a50-7277-49cf-9f8e-7cb10e8c2b62",
   "metadata": {},
   "outputs": [
    {
     "name": "stdout",
     "output_type": "stream",
     "text": [
      "[1 2 3]\n"
     ]
    }
   ],
   "source": [
    "x = np.array([1,2,3])\n",
    "print(x)"
   ]
  },
  {
   "cell_type": "code",
   "execution_count": 67,
   "id": "400fa2c0-18ee-499f-9ed8-cdcb4988dfcd",
   "metadata": {},
   "outputs": [
    {
     "name": "stdout",
     "output_type": "stream",
     "text": [
      "[[0 0]\n",
      " [1 1]]\n"
     ]
    }
   ],
   "source": [
    "x = np.array([[0,0],[1,1]])\n",
    "print(x)"
   ]
  },
  {
   "cell_type": "code",
   "execution_count": null,
   "id": "428833cd-d998-47b5-a225-bf20a077c993",
   "metadata": {},
   "outputs": [],
   "source": []
  }
 ],
 "metadata": {
  "kernelspec": {
   "display_name": "Python 3 (ipykernel)",
   "language": "python",
   "name": "python3"
  },
  "language_info": {
   "codemirror_mode": {
    "name": "ipython",
    "version": 3
   },
   "file_extension": ".py",
   "mimetype": "text/x-python",
   "name": "python",
   "nbconvert_exporter": "python",
   "pygments_lexer": "ipython3",
   "version": "3.11.4"
  }
 },
 "nbformat": 4,
 "nbformat_minor": 5
}
