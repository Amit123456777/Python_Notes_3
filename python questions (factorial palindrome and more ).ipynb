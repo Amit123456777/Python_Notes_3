{
 "cells": [
  {
   "cell_type": "code",
   "execution_count": 3,
   "id": "36fa1d64",
   "metadata": {},
   "outputs": [
    {
     "name": "stdout",
     "output_type": "stream",
     "text": [
      "enter any value : 4\n",
      "the sum is : 24\n"
     ]
    }
   ],
   "source": [
    "# factorial function (product of first n natural no.)\n",
    "\n",
    "n = int(input(\"enter any value : \"))\n",
    "product = 1\n",
    "while (n>0):\n",
    "    product = product * n\n",
    "    n = n-1\n",
    "print(\"the sum is :\", product)"
   ]
  },
  {
   "cell_type": "code",
   "execution_count": 2,
   "id": "18cbc1e4",
   "metadata": {},
   "outputs": [
    {
     "name": "stdout",
     "output_type": "stream",
     "text": [
      "enter number45\n",
      "54\n",
      "number is NOT palindrome\n"
     ]
    }
   ],
   "source": [
    "# palindrome\n",
    "# mix up of arms. + reverse\n",
    "\n",
    "i=int(input(\"enter number\"))\n",
    "rev=0\n",
    "x=i\n",
    "while(i>0):\n",
    "    rev=(rev*10)+i%10\n",
    "    i=i//10\n",
    "print(rev)\n",
    "if  x == rev:\n",
    "    print(\"number is palindrome  \")\n",
    "else:\n",
    "    print(\"number is NOT palindrome\")"
   ]
  },
  {
   "cell_type": "code",
   "execution_count": null,
   "id": "8e7b1616",
   "metadata": {},
   "outputs": [],
   "source": []
  },
  {
   "cell_type": "code",
   "execution_count": 12,
   "id": "ae2ec0f5",
   "metadata": {},
   "outputs": [
    {
     "name": "stdout",
     "output_type": "stream",
     "text": [
      "1900 is not leap year\n"
     ]
    }
   ],
   "source": [
    "# quest: 1\n",
    "# construct and array conting 4 integers find the sum and the difference of the largest two numbers\n",
    "\n",
    "\n",
    "year = 1900\n",
    "if (year % 4 == 0 and year % 100 != 0) or (year % 400 == 0):\n",
    "    print(year, \" is leap year\")\n",
    "else:\n",
    "    print(year, \"is not leap year\")"
   ]
  },
  {
   "cell_type": "code",
   "execution_count": null,
   "id": "519df007",
   "metadata": {},
   "outputs": [],
   "source": []
  },
  {
   "cell_type": "code",
   "execution_count": 1,
   "id": "24729721",
   "metadata": {},
   "outputs": [],
   "source": []
  },
  {
   "cell_type": "code",
   "execution_count": null,
   "id": "677dd5e5",
   "metadata": {},
   "outputs": [],
   "source": []
  }
 ],
 "metadata": {
  "kernelspec": {
   "display_name": "Python 3 (ipykernel)",
   "language": "python",
   "name": "python3"
  },
  "language_info": {
   "codemirror_mode": {
    "name": "ipython",
    "version": 3
   },
   "file_extension": ".py",
   "mimetype": "text/x-python",
   "name": "python",
   "nbconvert_exporter": "python",
   "pygments_lexer": "ipython3",
   "version": "3.11.4"
  }
 },
 "nbformat": 4,
 "nbformat_minor": 5
}
