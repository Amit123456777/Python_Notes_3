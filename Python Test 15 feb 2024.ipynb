{
 "cells": [
  {
   "cell_type": "code",
   "execution_count": 1,
   "id": "f799d17c-876e-4be3-bc2b-1b379dbb657a",
   "metadata": {},
   "outputs": [
    {
     "name": "stdout",
     "output_type": "stream",
     "text": [
      "['red', 'blue', 'green', 'orange', 'yellow', 'silver']\n"
     ]
    }
   ],
   "source": [
    "# 1\n",
    "colours = [\"red\", \"blue\", \"green\", \"orange\", \"yellow\"]\n",
    "colours.append(\"silver\")\n",
    "print(colours)"
   ]
  },
  {
   "cell_type": "code",
   "execution_count": null,
   "id": "4887ca3f-6821-4b0d-aa08-0d27ff6b1801",
   "metadata": {},
   "outputs": [],
   "source": []
  },
  {
   "cell_type": "code",
   "execution_count": 2,
   "id": "53c54a67-99b4-4d62-8064-249243b93374",
   "metadata": {},
   "outputs": [
    {
     "name": "stdout",
     "output_type": "stream",
     "text": [
      "[1, 2, 3, 4, 5, 6]\n"
     ]
    }
   ],
   "source": [
    "# 2 \n",
    "lst1 = [1,2,3]\n",
    "lst2 = [4,5,6]\n",
    "lst1.extend(lst2)\n",
    "print(lst1)"
   ]
  },
  {
   "cell_type": "code",
   "execution_count": 15,
   "id": "fd6310fc-15ac-44bb-b469-1598b2fb3b67",
   "metadata": {},
   "outputs": [
    {
     "name": "stdout",
     "output_type": "stream",
     "text": [
      "['dog', 'buffallo', 'cat', 'rabbit', 'cow']\n"
     ]
    }
   ],
   "source": [
    "# 3\n",
    "\n",
    "animals = [\"dog\", \"buffallo\", \"rabbit\", \"cow\"]\n",
    "animals.insert(2, \"cat\")\n",
    "print(animals)"
   ]
  },
  {
   "cell_type": "code",
   "execution_count": 4,
   "id": "bc2ea12b-db93-40b6-b185-647ffbe8ffba",
   "metadata": {},
   "outputs": [
    {
     "name": "stdout",
     "output_type": "stream",
     "text": [
      "[1, 2, 3, 4]\n"
     ]
    }
   ],
   "source": [
    "# 4\n",
    "lst3 = [1,2,3,4,5]\n",
    "lst3.pop()\n",
    "print(lst3)"
   ]
  },
  {
   "cell_type": "code",
   "execution_count": 5,
   "id": "7ca603c8-03bc-41da-aed4-d9b7b69c0e7e",
   "metadata": {},
   "outputs": [
    {
     "name": "stdout",
     "output_type": "stream",
     "text": [
      "[1, 2, 3, 5]\n"
     ]
    }
   ],
   "source": [
    "# 5\n",
    "lst4 = [1,2,3,4,5]\n",
    "del lst4[3]\n",
    "print(lst4)"
   ]
  },
  {
   "cell_type": "code",
   "execution_count": 16,
   "id": "9fc434b4-7e2e-4d63-ae34-5e82731493ac",
   "metadata": {},
   "outputs": [
    {
     "name": "stdout",
     "output_type": "stream",
     "text": [
      "original list : [1, 5, 4, 7, 3, 2] \n",
      "sorted list : [1, 2, 3, 4, 5, 7] \n"
     ]
    }
   ],
   "source": [
    "# 6 asc\n",
    "lst6 = [1,5,4,7,3,2]\n",
    "print(f\"original list : {lst6} \")\n",
    "lst6.sort()\n",
    "\n",
    "print(f\"sorted list : {lst6} \")\n"
   ]
  },
  {
   "cell_type": "code",
   "execution_count": 18,
   "id": "45036aed-ce8d-46e1-b5e0-f841105aea9f",
   "metadata": {},
   "outputs": [
    {
     "name": "stdout",
     "output_type": "stream",
     "text": [
      " min : 1\n",
      " max : 6\n"
     ]
    }
   ],
   "source": [
    "# 7\n",
    "lst7 = [1,2,5,3,6]\n",
    "print(f\" min : {min(lst7)}\")\n",
    "print(f\" max : {max(lst7)}\")"
   ]
  },
  {
   "cell_type": "code",
   "execution_count": 12,
   "id": "6c496418-eb8c-487b-a4d8-d44eb066e9a2",
   "metadata": {},
   "outputs": [
    {
     "name": "stdout",
     "output_type": "stream",
     "text": [
      "0\n"
     ]
    }
   ],
   "source": [
    "# 8 \n",
    "lst8 = [3,6,4,3,7]\n",
    "print(lst8.index(3))"
   ]
  },
  {
   "cell_type": "code",
   "execution_count": 13,
   "id": "c5c1df9c-614a-481c-8b3e-b4d4eb507d59",
   "metadata": {},
   "outputs": [
    {
     "name": "stdout",
     "output_type": "stream",
     "text": [
      "[1, 2, 4, 5]\n"
     ]
    }
   ],
   "source": [
    "# 9\n",
    "lst9 = [1,2,3,4,5]\n",
    "del lst9[2]\n",
    "print(lst9)"
   ]
  },
  {
   "cell_type": "code",
   "execution_count": 21,
   "id": "e9876a10-d007-4cfc-a509-6dccfd309ce0",
   "metadata": {},
   "outputs": [
    {
     "name": "stdout",
     "output_type": "stream",
     "text": [
      "Reversed array : [30, 20, 40, 80, 10] \n"
     ]
    }
   ],
   "source": [
    "# 10\n",
    "lst10 = [10,80,40,20,30]\n",
    "lst10.reverse()\n",
    "print(f\"Reversed array : {lst10} \")"
   ]
  },
  {
   "cell_type": "code",
   "execution_count": 13,
   "id": "feccce67-b9df-4132-992f-66f689793d70",
   "metadata": {},
   "outputs": [
    {
     "name": "stdout",
     "output_type": "stream",
     "text": [
      "original_lst : [1, 2, 3, 4, 5] \n",
      "copy_lst : [1, 2, 3, 4, 5]\n"
     ]
    }
   ],
   "source": [
    "# 11\n",
    "lst11 = [1,2,3,4,5]\n",
    "copy_lst = lst11.copy()\n",
    "print(f\"original_lst : {lst11} \")\n",
    "print(f\"copy_lst : {copy_lst}\")"
   ]
  },
  {
   "cell_type": "code",
   "execution_count": 19,
   "id": "76b17d46-1445-4744-b206-154905e204e4",
   "metadata": {},
   "outputs": [
    {
     "name": "stdout",
     "output_type": "stream",
     "text": [
      "[]\n"
     ]
    }
   ],
   "source": [
    "# 12\n",
    "lst12 = [1,2,3,4,5]\n",
    "lst12.clear()\n",
    "print(lst12)"
   ]
  },
  {
   "cell_type": "code",
   "execution_count": 24,
   "id": "f4537bcb-fb6d-4d17-84bb-73a0ee1588c1",
   "metadata": {},
   "outputs": [
    {
     "name": "stdout",
     "output_type": "stream",
     "text": [
      "No. of occurence of 3 is : 2 \n"
     ]
    }
   ],
   "source": [
    "# 13\n",
    "lst13 = [1,2,3,4,5,3]\n",
    "print(f\"No. of occurence of 3 is : {lst13.count(3)} \")"
   ]
  },
  {
   "cell_type": "code",
   "execution_count": null,
   "id": "356ef6d5-3311-47e5-98bb-dd2d57aaf60b",
   "metadata": {},
   "outputs": [],
   "source": []
  },
  {
   "cell_type": "code",
   "execution_count": null,
   "id": "ac2c0165-1ef9-493e-9945-925dede8fc50",
   "metadata": {},
   "outputs": [],
   "source": []
  },
  {
   "cell_type": "code",
   "execution_count": null,
   "id": "e489fa92-671b-4f7f-aaaf-f0c3127bd8c9",
   "metadata": {},
   "outputs": [],
   "source": []
  },
  {
   "cell_type": "code",
   "execution_count": null,
   "id": "2588a180-9ab6-46bc-bfc7-c58b90ac5be8",
   "metadata": {},
   "outputs": [],
   "source": []
  },
  {
   "cell_type": "code",
   "execution_count": null,
   "id": "c9142a0a-9e3a-4ce4-a55b-c902900e6cf3",
   "metadata": {},
   "outputs": [],
   "source": [
    "# MORE ON SORT()"
   ]
  },
  {
   "cell_type": "code",
   "execution_count": 1,
   "id": "77ec6988-1ebd-4823-808a-334ab2cbf2d6",
   "metadata": {},
   "outputs": [
    {
     "name": "stdout",
     "output_type": "stream",
     "text": [
      "[7, 5, 4, 3, 2, 1]\n",
      "[7, 5, 4, 3, 2, 1]\n"
     ]
    }
   ],
   "source": [
    "# desc\n",
    "\n",
    "lst6 = [1,5,4,7,3,2]\n",
    "lst6.sort(reverse = -1)\n",
    "print(lst6)\n",
    "\n",
    "lst6 = [1,5,4,7,3,2]\n",
    "lst6.sort(reverse = 1)\n",
    "print(lst6)\n",
    "\n",
    "lst6 = [1,5,4,7,3,2]\n",
    "lst6.sort(reverse = True)\n",
    "print(lst6)"
   ]
  },
  {
   "cell_type": "code",
   "execution_count": 6,
   "id": "c3331bb7-bec7-4327-b421-c61bc6e3a19d",
   "metadata": {},
   "outputs": [
    {
     "name": "stdout",
     "output_type": "stream",
     "text": [
      "[1, 2, 3, 4, 5, 7]\n",
      "[1, 2, 3, 4, 5, 7]\n"
     ]
    }
   ],
   "source": [
    "# asc\n",
    "lst6 = [1,5,4,7,3,2]\n",
    "lst6.sort()\n",
    "print(lst6)\n",
    "\n",
    "\n",
    "lst6 = [1,5,4,7,3,2]\n",
    "lst6.sort(reverse = False)\n",
    "print(lst6)"
   ]
  },
  {
   "cell_type": "code",
   "execution_count": null,
   "id": "3b2b9d70-c6ab-43d1-a2f7-799eaf4b4322",
   "metadata": {},
   "outputs": [],
   "source": [
    "# it shows error\n",
    "lst6 = [1,5,4,7,3,2]\n",
    "lst6.sort(-1)\n",
    "print(lst6)"
   ]
  },
  {
   "cell_type": "code",
   "execution_count": null,
   "id": "c52cc9ef-4bd7-4cf0-859e-a83f548f0740",
   "metadata": {},
   "outputs": [],
   "source": []
  },
  {
   "cell_type": "code",
   "execution_count": null,
   "id": "54b4490f-95d1-4b0e-a9cd-f412a29c9422",
   "metadata": {},
   "outputs": [],
   "source": [
    "# note:\n",
    "# if a code return a single output = then use print in the same line.\n",
    "# and if a code return >1 output = then use print funt() in the new line."
   ]
  },
  {
   "cell_type": "code",
   "execution_count": null,
   "id": "4f4fc867-13e8-4e55-bf29-42f432d77245",
   "metadata": {},
   "outputs": [],
   "source": []
  },
  {
   "cell_type": "code",
   "execution_count": null,
   "id": "19ff5a9b-c733-4df5-8aed-60a1387df95a",
   "metadata": {},
   "outputs": [],
   "source": []
  }
 ],
 "metadata": {
  "kernelspec": {
   "display_name": "Python 3 (ipykernel)",
   "language": "python",
   "name": "python3"
  },
  "language_info": {
   "codemirror_mode": {
    "name": "ipython",
    "version": 3
   },
   "file_extension": ".py",
   "mimetype": "text/x-python",
   "name": "python",
   "nbconvert_exporter": "python",
   "pygments_lexer": "ipython3",
   "version": "3.11.4"
  }
 },
 "nbformat": 4,
 "nbformat_minor": 5
}
