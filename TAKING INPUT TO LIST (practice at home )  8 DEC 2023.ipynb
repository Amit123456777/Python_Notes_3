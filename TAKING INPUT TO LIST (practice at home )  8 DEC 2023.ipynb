{
 "cells": [
  {
   "cell_type": "code",
   "execution_count": 11,
   "id": "9c56ee5c",
   "metadata": {},
   "outputs": [
    {
     "name": "stdout",
     "output_type": "stream",
     "text": [
      "enter comma separated values2, 3\n",
      "['2,', '3']\n"
     ]
    }
   ],
   "source": []
  },
  {
   "cell_type": "code",
   "execution_count": 12,
   "id": "878f875a",
   "metadata": {},
   "outputs": [
    {
     "name": "stdout",
     "output_type": "stream",
     "text": [
      "Enter a list of items separated by spaces: 1 2 3\n",
      "List of items: ['1', '2', '3']\n"
     ]
    }
   ],
   "source": [
    "items_list = input(\"Enter a list of items separated by spaces: \").split()\n",
    "print(\"List of items:\", items_list)\n"
   ]
  },
  {
   "cell_type": "code",
   "execution_count": 16,
   "id": "10f697cb",
   "metadata": {},
   "outputs": [
    {
     "name": "stdout",
     "output_type": "stream",
     "text": [
      "enter space separated values for listsf sefee wefe ee\n",
      "['sf', 'sefee', 'wefe', 'ee']\n",
      "<class 'list'>\n"
     ]
    }
   ],
   "source": [
    "lst1 = input(\"enter space separated values for list\").split()\n",
    "print(lst1)\n",
    "print(type(lst1))"
   ]
  },
  {
   "cell_type": "code",
   "execution_count": 4,
   "id": "b3e76ff4",
   "metadata": {},
   "outputs": [
    {
     "name": "stdout",
     "output_type": "stream",
     "text": [
      "type [ape] by space separateda c l\n",
      "type [pea] by space separatedp e a\n",
      "['a', 'c', 'l'] ['p', 'e', 'a']\n",
      "None None\n",
      "anagram\n"
     ]
    }
   ],
   "source": [
    "word_ape = input(\"type [ape] by space separated\").split()\n",
    "anagram_pea = input(\"type [pea] by space separated\").split()\n",
    "\n",
    "print(word_ape, anagram_pea)\n",
    "a = word_ape.sort()\n",
    "b = anagram_pea.sort()\n",
    "print(a, b)\n",
    "if a == b:\n",
    "    print(\"anagram\")\n",
    "else:\n",
    "    print(\"not\")\n",
    "\n",
    "    \n",
    "\n",
    "\n",
    "\n"
   ]
  },
  {
   "cell_type": "code",
   "execution_count": 9,
   "id": "3b0020b3",
   "metadata": {},
   "outputs": [
    {
     "name": "stdout",
     "output_type": "stream",
     "text": [
      "milo\n",
      "4\n",
      "ram\n",
      "3\n",
      "shyam\n",
      "5\n"
     ]
    }
   ],
   "source": [
    "names = [\"milo\", \"ram\", \"shyam\"]\n",
    "for item in names:\n",
    "    print(item)\n",
    "    print(len(item))"
   ]
  },
  {
   "cell_type": "code",
   "execution_count": null,
   "id": "521d7af6",
   "metadata": {},
   "outputs": [],
   "source": []
  }
 ],
 "metadata": {
  "kernelspec": {
   "display_name": "Python 3 (ipykernel)",
   "language": "python",
   "name": "python3"
  },
  "language_info": {
   "codemirror_mode": {
    "name": "ipython",
    "version": 3
   },
   "file_extension": ".py",
   "mimetype": "text/x-python",
   "name": "python",
   "nbconvert_exporter": "python",
   "pygments_lexer": "ipython3",
   "version": "3.11.4"
  }
 },
 "nbformat": 4,
 "nbformat_minor": 5
}
