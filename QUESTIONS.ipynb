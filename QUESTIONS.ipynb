{
 "cells": [
  {
   "cell_type": "code",
   "execution_count": 8,
   "id": "0dfc81d8",
   "metadata": {},
   "outputs": [
    {
     "name": "stdout",
     "output_type": "stream",
     "text": [
      "3\n",
      "5\n",
      "7\n",
      "9\n",
      "11\n",
      "13\n",
      "15\n",
      "4\n",
      "6\n",
      "8\n",
      "10\n",
      "12\n",
      "14\n"
     ]
    }
   ],
   "source": [
    "# questions\n",
    "\n",
    "# PRINT THE ODD NO FORM 4 TO 15\n",
    "for i in range(3,16,2):\n",
    "    print(i)\n",
    "    \n",
    "    \n",
    "# PRINT THE ODD NO FORM 4 TO 15\n",
    "for i in range(4,15,2):\n",
    "    print(i)"
   ]
  },
  {
   "cell_type": "code",
   "execution_count": 15,
   "id": "7326ae2d",
   "metadata": {},
   "outputs": [
    {
     "name": "stdout",
     "output_type": "stream",
     "text": [
      "Enter the number :2\n",
      "number is even\n"
     ]
    }
   ],
   "source": [
    "# ques\n",
    "num = int(input(\"Enter the number :\"))\n",
    "if num %2==0:\n",
    "    print(\"number is even\")\n",
    "elif num%2!=0:\n",
    "    print(\"number is odd\")\n",
    "else:\n",
    "    print(\"INVALID NUMBER\")\n",
    "\n",
    "# negative no also odd and even. because even and odd number be any interger.\n",
    "# Yes, -7 is an odd number. In general, an odd number is any integer that cannot be evenly divided by 2. \n",
    "# Since -7 cannot be divided by 2 without leaving a remainder, it is considered an odd number."
   ]
  },
  {
   "cell_type": "code",
   "execution_count": null,
   "id": "6b0f5478",
   "metadata": {},
   "outputs": [],
   "source": []
  },
  {
   "cell_type": "code",
   "execution_count": null,
   "id": "44fd57ae",
   "metadata": {},
   "outputs": [],
   "source": []
  }
 ],
 "metadata": {
  "kernelspec": {
   "display_name": "Python 3 (ipykernel)",
   "language": "python",
   "name": "python3"
  },
  "language_info": {
   "codemirror_mode": {
    "name": "ipython",
    "version": 3
   },
   "file_extension": ".py",
   "mimetype": "text/x-python",
   "name": "python",
   "nbconvert_exporter": "python",
   "pygments_lexer": "ipython3",
   "version": "3.11.4"
  }
 },
 "nbformat": 4,
 "nbformat_minor": 5
}
