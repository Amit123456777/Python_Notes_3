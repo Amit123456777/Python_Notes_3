{
 "cells": [
  {
   "cell_type": "code",
   "execution_count": null,
   "id": "d7050331",
   "metadata": {},
   "outputs": [],
   "source": [
    "# correct code\n",
    "# coding\n",
    "import random\n",
    "import string\n",
    "\n",
    "code = \"code\"\n",
    "decode = \"decode\"\n",
    "\n",
    "a = input(\"what you want to do: {'code'} or {'decode'} :\")    # inputs: CODE\n",
    "\n",
    "print(a.lower())    # THIS MAKES USER INPUT LOWER EVERYTIME   #inputs:  code\n",
    "\n",
    "\n",
    "if a == code:\n",
    "    word = input(\"enter the word to encode : \")                         # inputs : harry\n",
    "\n",
    "    if len(word) > 3:\n",
    "        word = word[1:] + word[0]  # this make to append 1st char at the last     #inputs: harry = arry + h\n",
    "        print(word)                                                               # inputs: arryh\n",
    "        # now append 3 random character at the starting and the end\n",
    "        start = ''.join(random.choices(string.ascii_letters, k=3))  #see notes for complete explainatn about,   # inputs: abc\n",
    "        end = ''.join(random.choices(string.ascii_letters, k=3))  #1. string.ascii_letters, 2.random.choice nd 3. ''.join   #inputs: xyz\n",
    "\n",
    "        code_word = start + word + end              # inputs: code_word = abc + arryh + xyz\n",
    "        print(\"CODE WORD:\", code_word)              # inputs: abcarryhxyz\n",
    "\n",
    "    else:\n",
    "        rev =word[::-1]  # reverse using str slicing   # inputs: fo\n",
    "        print(rev)                                     # inputs: of\n",
    "\n",
    "\n",
    "# DECODING\n",
    "elif a == decode:                                   \n",
    "    word = input(\"enter the word to decode : \")         # inputs: abcarryhxyz    \n",
    "    if len(word) < 3:                                   \n",
    "        rev = word[::-1]                       #inputs: fo\n",
    "        print(rev)                             # inputs: of\n",
    "    else: \n",
    "        word = word[3:-3]                     #inputs: arryh\n",
    "        print(word)\n",
    "        # jo bi last word hai usko start me append krna hai\n",
    "        word = word[-1] + word[:-1]  # -1 isn't include              # inputs: word = h + arry\n",
    "        print(word)                                                   # harry\n",
    "        \n",
    "else:\n",
    "    raise ValueError(\"Invalid input. Please enter either 'code' or 'decode'.\")  # we use else raise block at last see notes 2"
   ]
  }
 ],
 "metadata": {
  "kernelspec": {
   "display_name": "Python 3 (ipykernel)",
   "language": "python",
   "name": "python3"
  },
  "language_info": {
   "codemirror_mode": {
    "name": "ipython",
    "version": 3
   },
   "file_extension": ".py",
   "mimetype": "text/x-python",
   "name": "python",
   "nbconvert_exporter": "python",
   "pygments_lexer": "ipython3",
   "version": "3.11.4"
  }
 },
 "nbformat": 4,
 "nbformat_minor": 5
}
