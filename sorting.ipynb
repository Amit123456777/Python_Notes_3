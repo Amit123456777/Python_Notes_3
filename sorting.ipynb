{
 "cells": [
  {
   "cell_type": "code",
   "execution_count": 1,
   "id": "d94c9f73-b6ea-4987-b7cf-cf88d2edec32",
   "metadata": {},
   "outputs": [],
   "source": [
    "# 5 4 2 7 1"
   ]
  },
  {
   "cell_type": "code",
   "execution_count": 26,
   "id": "230380d2-f94c-487c-b2e4-712dd279b45e",
   "metadata": {},
   "outputs": [
    {
     "name": "stdout",
     "output_type": "stream",
     "text": [
      "array('i', [5, 4, 2, 7, 1])\n",
      "\n",
      "length 5\n",
      "\n",
      "indexing1\n",
      "\n",
      "5\n",
      "5\n",
      "4\n",
      "2\n",
      "7\n",
      "1\n",
      "4\n",
      "5\n",
      "4\n",
      "2\n",
      "7\n",
      "1\n",
      "2\n",
      "5\n",
      "4\n",
      "2\n",
      "7\n",
      "1\n",
      "7\n",
      "5\n",
      "4\n",
      "2\n",
      "7\n",
      "1\n",
      "1\n",
      "5\n",
      "4\n",
      "2\n",
      "7\n",
      "1\n"
     ]
    }
   ],
   "source": [
    "import array \n",
    "from array import *\n",
    "arr = array('i',[5,4,2,7,1])\n",
    "print(arr)\n",
    "print()\n",
    "print(f\"length {len(arr)}\")\n",
    "print()\n",
    "print(f\"indexing{arr[4]}\")\n",
    "print()\n",
    "for i in (arr):\n",
    "    print(i,end=\"\")\n",
    "    print()\n",
    "    for j in (arr):\n",
    "        print(j)\n",
    "            # if arr[j] "
   ]
  },
  {
   "cell_type": "code",
   "execution_count": 32,
   "id": "a6666b03-6495-4ead-a665-ee53cbdaa654",
   "metadata": {},
   "outputs": [
    {
     "name": "stdout",
     "output_type": "stream",
     "text": [
      "54271"
     ]
    }
   ],
   "source": [
    "for i in (arr):\n",
    "    print(i,end=\"\")"
   ]
  },
  {
   "cell_type": "code",
   "execution_count": 46,
   "id": "bce80396-ec4a-4686-84c3-12ed2a877b7b",
   "metadata": {},
   "outputs": [
    {
     "name": "stdout",
     "output_type": "stream",
     "text": [
      "5 4 1 4 4 1 2 4 1 7 4 1 1 4 1 "
     ]
    }
   ],
   "source": [
    "def bubble_sort(arr):\n",
    "    for i in (arr):\n",
    "        print(i,end=\" \",)\n",
    "        for j in (arr[1],arr[4]):\n",
    "            print(j,end=\" \")\n",
    "\n",
    "bubble_sort(arr)\n",
    "    "
   ]
  },
  {
   "cell_type": "code",
   "execution_count": 38,
   "id": "572ee18a-bd0b-44d1-a009-fd81a6e54f11",
   "metadata": {},
   "outputs": [
    {
     "name": "stdout",
     "output_type": "stream",
     "text": [
      "array('i', [5, 4, 2, 7, 1])\n"
     ]
    },
    {
     "ename": "TypeError",
     "evalue": "'builtin_function_or_method' object is not subscriptable",
     "output_type": "error",
     "traceback": [
      "\u001b[1;31m---------------------------------------------------------------------------\u001b[0m",
      "\u001b[1;31mTypeError\u001b[0m                                 Traceback (most recent call last)",
      "Cell \u001b[1;32mIn[38], line 3\u001b[0m\n\u001b[0;32m      1\u001b[0m arr \u001b[38;5;241m=\u001b[39m array(\u001b[38;5;124m'\u001b[39m\u001b[38;5;124mi\u001b[39m\u001b[38;5;124m'\u001b[39m,[\u001b[38;5;241m5\u001b[39m,\u001b[38;5;241m4\u001b[39m,\u001b[38;5;241m2\u001b[39m,\u001b[38;5;241m7\u001b[39m,\u001b[38;5;241m1\u001b[39m])\n\u001b[0;32m      2\u001b[0m \u001b[38;5;28mprint\u001b[39m(arr)\n\u001b[1;32m----> 3\u001b[0m \u001b[38;5;28mprint\u001b[39m(\u001b[38;5;28;43mlen\u001b[39;49m\u001b[43m[\u001b[49m\u001b[43marr\u001b[49m\u001b[43m]\u001b[49m)\n",
      "\u001b[1;31mTypeError\u001b[0m: 'builtin_function_or_method' object is not subscriptable"
     ]
    }
   ],
   "source": [
    "arr = array('i',[5,4,2,7,1])\n",
    "print(arr)\n",
    "print(len[arr])"
   ]
  },
  {
   "cell_type": "code",
   "execution_count": 57,
   "id": "31b5748f-6c68-41e1-b65e-bd12d79851a6",
   "metadata": {},
   "outputs": [
    {
     "name": "stdout",
     "output_type": "stream",
     "text": [
      "0\n",
      "6\n"
     ]
    }
   ],
   "source": [
    "a = [1,2,3,4,5,6,7]\n",
    "for i in (0, len(a)-1):\n",
    "    print(i)"
   ]
  },
  {
   "cell_type": "code",
   "execution_count": null,
   "id": "9309619f-d137-4b6e-806b-881bad7a0c09",
   "metadata": {},
   "outputs": [],
   "source": []
  }
 ],
 "metadata": {
  "kernelspec": {
   "display_name": "Python 3 (ipykernel)",
   "language": "python",
   "name": "python3"
  },
  "language_info": {
   "codemirror_mode": {
    "name": "ipython",
    "version": 3
   },
   "file_extension": ".py",
   "mimetype": "text/x-python",
   "name": "python",
   "nbconvert_exporter": "python",
   "pygments_lexer": "ipython3",
   "version": "3.11.4"
  }
 },
 "nbformat": 4,
 "nbformat_minor": 5
}
