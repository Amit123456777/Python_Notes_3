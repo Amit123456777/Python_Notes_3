{
 "cells": [
  {
   "cell_type": "code",
   "execution_count": 1,
   "id": "08fbc423-359e-43bb-aa4a-28a78bbcd4b4",
   "metadata": {},
   "outputs": [
    {
     "name": "stdout",
     "output_type": "stream",
     "text": [
      "Requirement already satisfied: pygame in c:\\users\\rahul\\anaconda3\\lib\\site-packages (2.5.2)\n",
      "Note: you may need to restart the kernel to use updated packages.\n"
     ]
    }
   ],
   "source": [
    "pip install pygame"
   ]
  },
  {
   "cell_type": "code",
   "execution_count": null,
   "id": "d6236319-be77-4179-824d-3b3d7b563ced",
   "metadata": {},
   "outputs": [],
   "source": []
  },
  {
   "cell_type": "code",
   "execution_count": 6,
   "id": "e50a6bf7-c6b9-4ac0-b8b1-9a9d40ee683c",
   "metadata": {},
   "outputs": [
    {
     "name": "stdout",
     "output_type": "stream",
     "text": [
      "['arial', 'arialblack', 'bahnschrift', 'calibri', 'cambria', 'cambriamath', 'candara', 'comicsansms', 'consolas', 'constantia', 'corbel', 'couriernew', 'ebrima', 'franklingothicmedium', 'gabriola', 'gadugi', 'georgia', 'impact', 'inkfree', 'javanesetext', 'leelawadeeui', 'leelawadeeuisemilight', 'lucidaconsole', 'lucidasans', 'malgungothic', 'malgungothicsemilight', 'microsofthimalaya', 'microsoftjhenghei', 'microsoftjhengheiui', 'microsoftnewtailue', 'microsoftphagspa', 'microsoftsansserif', 'microsofttaile', 'microsoftyahei', 'microsoftyaheiui', 'microsoftyibaiti', 'mingliuextb', 'pmingliuextb', 'mingliuhkscsextb', 'mongolianbaiti', 'msgothic', 'msuigothic', 'mspgothic', 'mvboli', 'myanmartext', 'nirmalaui', 'nirmalauisemilight', 'palatinolinotype', 'sansserifcollection', 'segoefluenticons', 'segoemdl2assets', 'segoeprint', 'segoescript', 'segoeui', 'segoeuiblack', 'segoeuiemoji', 'segoeuihistoric', 'segoeuisemibold', 'segoeuisemilight', 'segoeuisymbol', 'segoeuivariable', 'simsun', 'nsimsun', 'simsunextb', 'sitkatext', 'sylfaen', 'symbol', 'tahoma', 'timesnewroman', 'trebuchetms', 'verdana', 'webdings', 'wingdings', 'yugothic', 'yugothicuisemibold', 'yugothicui', 'yugothicmedium', 'yugothicuiregular', 'yugothicregular', 'yugothicuisemilight', 'holomdl2assets', 'agencyfb', 'algerian', 'bookantiqua', 'arialrounded', 'baskervilleoldface', 'bauhaus93', 'bell', 'bernardcondensed', 'bodoni', 'bodoniblack', 'bodonicondensed', 'bodonipostercompressed', 'bookmanoldstyle', 'bradleyhanditc', 'britannic', 'berlinsansfb', 'berlinsansfbdemi', 'broadway', 'brushscript', 'bookshelfsymbol7', 'californianfb', 'calisto', 'castellar', 'centuryschoolbook', 'centaur', 'century', 'chiller', 'colonna', 'cooperblack', 'copperplategothic', 'curlz', 'dubai', 'dubaimedium', 'dubairegular', 'elephant', 'engravers', 'erasitc', 'erasdemiitc', 'erasmediumitc', 'felixtitling', 'forte', 'franklingothicbook', 'franklingothicdemi', 'franklingothicdemicond', 'franklingothicheavy', 'franklingothicmediumcond', 'freestylescript', 'frenchscript', 'footlight', 'garamond', 'gigi', 'gillsans', 'gillsanscondensed', 'gillsansultracondensed', 'gillsansultra', 'gloucesterextracondensed', 'gillsansextcondensed', 'centurygothic', 'goudyoldstyle', 'goudystout', 'harlowsolid', 'harrington', 'haettenschweiler', 'hightowertext', 'imprintshadow', 'informalroman', 'blackadderitc', 'edwardianscriptitc', 'kristenitc', 'jokerman', 'juiceitc', 'kunstlerscript', 'widelatin', 'lucidabright', 'lucidacalligraphy', 'lucidafaxregular', 'lucidafax', 'lucidahandwriting', 'lucidasansregular', 'lucidasansroman', 'lucidasanstypewriterregular', 'lucidasanstypewriter', 'lucidasanstypewriteroblique', 'magneto', 'maiandragd', 'maturascriptcapitals', 'mistral', 'modernno20', 'monotypecorsiva', 'extra', 'niagaraengraved', 'niagarasolid', 'ocraextended', 'oldenglishtext', 'onyx', 'msoutlook', 'palacescript', 'papyrus', 'parchment', 'perpetua', 'perpetuatitling', 'playbill', 'poorrichard', 'pristina', 'rage', 'ravie', 'msreferencesansserif', 'msreferencespecialty', 'rockwellcondensed', 'rockwell', 'rockwellextra', 'script', 'showcardgothic', 'snapitc', 'stencil', 'twcen', 'twcencondensed', 'twcencondensedextra', 'tempussansitc', 'vinerhanditc', 'vivaldi', 'vladimirscript', 'wingdings2', 'wingdings3', 'acaslonproboldopentype', 'acaslonprobolditalicopentype', 'acaslonproitalicopentype', 'acaslonproregularopentype', 'acaslonprosemiboldopentype', 'acaslonprosemibolditalicopentype', 'adobefangsongstdregularopentype', 'adobefanheitistdboldopentype', 'adobegothicstdboldopentype', 'adobeheitistdregularopentype', 'adobekaitistdregularopentype', 'agaramondproboldopentype', 'agaramondprobolditalicopentype', 'agaramondproitalicopentype', 'agaramondproregularopentype', 'birchstdopentype', 'blackoakstdopentype', 'brushscriptstdopentype', 'chaparralproboldopentype', 'chaparralprobolditopentype', 'chaparralproitalicopentype', 'chaparralproregularopentype', 'charlemagnestdboldopentype', 'cooperblackstditalicopentype', 'cooperblackstdopentype', 'giddyupstdopentype', 'hobostdopentype', 'kozgopr6nboldopentype', 'kozgopr6nextralightopentype', 'kozgopr6nheavyopentype', 'kozgopr6nlightopentype', 'kozgopr6nmediumopentype', 'kozgopr6nregularopentype', 'kozminpr6nboldopentype', 'kozminpr6nextralightopentype', 'kozminpr6nheavyopentype', 'kozminpr6nlightopentype', 'kozminpr6nmediumopentype', 'kozminpr6nregularopentype', 'lithosproblackopentype', 'lithosproregularopentype', 'mesquitestdopentype', 'minionproboldcnopentype', 'minionproboldcnitopentype', 'minionpromediumopentype', 'minionpromediumitopentype', 'minionprosemiboldopentype', 'minionprosemibolditopentype', 'nuevastdboldcondopentype', 'nuevastdboldconditalicopentype', 'nuevastdcondopentype', 'nuevastdconditalicopentype', 'ocrastdopentype', 'oratorstdslantedopentype', 'oratorstdopentype', 'poplarstdopentype', 'prestigeelitestdbdopentype', 'rosewoodstdregularopentype', 'stencilstdopentype', 'tektonproboldopentype', 'tektonproboldcondopentype', 'tektonproboldextopentype', 'tektonproboldoblopentype', 'trajanproboldopentype', 'trajanproregularopentype', 'adobearabicboldopentype', 'adobearabicbolditalicopentype', 'adobearabicitalicopentype', 'adobearabicregularopentype', 'adobehebrewboldopentype', 'adobehebrewbolditalicopentype', 'adobehebrewitalicopentype', 'adobehebrewregularopentype', 'adobemingstdlightopentype', 'adobemyungjostdmediumopentype', 'adobesongstdlightopentype', 'kozgoproboldopentype', 'kozgoproextralightopentype', 'kozgoproheavyopentype', 'kozgoprolightopentype', 'kozgopromediumopentype', 'kozgoproregularopentype', 'kozminproboldopentype', 'kozminproextralightopentype', 'kozminproheavyopentype', 'kozminprolightopentype', 'kozminpromediumopentype', 'kozminproregularopentype', 'lettergothicstdboldopentype', 'lettergothicstdboldslantedopentype', 'lettergothicstdslantedopentype', 'lettergothicstdopentype', 'minionproboldopentype', 'minionprobolditopentype', 'minionproitopentype', 'minionproregularopentype', 'myriadproboldopentype', 'myriadproboldcondopentype', 'myriadproboldconditopentype', 'myriadprobolditopentype', 'myriadprocondopentype', 'myriadproconditopentype', 'myriadproitopentype', 'myriadproregularopentype', 'myriadprosemiboldopentype', 'myriadprosemibolditopentype', 'leelawadee', 'microsoftuighur', 'codicon', 'elusiveiconswebfont', 'fontawesome47webfont', 'fontawesome5brandswebfont', 'fontawesome5regularwebfont', 'fontawesome5solidwebfont', 'materialdesignicons5webfont', 'materialdesignicons6webfont', 'phosphor', 'remixicon']\n"
     ]
    }
   ],
   "source": [
    "import pygame\n",
    "fonts = pygame.font.get_fonts()\n",
    "print(fonts)"
   ]
  },
  {
   "cell_type": "code",
   "execution_count": null,
   "id": "6833c9af-c2ee-427c-973a-1d5b6f0f8bec",
   "metadata": {},
   "outputs": [
    {
     "name": "stdout",
     "output_type": "stream",
     "text": [
      "pygame 2.5.2 (SDL 2.28.3, Python 3.11.4)\n",
      "Hello from the pygame community. https://www.pygame.org/contribute.html\n"
     ]
    }
   ],
   "source": [
    "import pygame\n",
    "import time\n",
    "import random\n",
    "from pygame.locals import *\n",
    "\n",
    "pygame.init()\n",
    "\n",
    "red = (255, 0, 0)\n",
    "blue = (51, 153, 255)\n",
    "grey = (192, 192, 192)\n",
    "green = (51, 102, 0)\n",
    "yellow = (0, 255, 255)\n",
    "\n",
    "win_width = 600\n",
    "win_height = 400\n",
    "window = pygame.display.set_mode((win_width, win_height))\n",
    "\n",
    "snake = 10\n",
    "snake_speed = 15\n",
    "\n",
    "clock = pygame.time.Clock()\n",
    "\n",
    "font_style = pygame.font.SysFont(\"calibri\", 26)\n",
    "score_font = pygame.font.SysFont(\"comicsansms\", 30)\n",
    "\n",
    "def user_score(score):\n",
    "    number = score_font.render(\"Score: \" + str(score), True, red)\n",
    "    window.blit(number, [0, 0])\n",
    "\n",
    "def game_snake(snake, snake_length_list):\n",
    "    for x in snake_length_list:\n",
    "        pygame.draw.rect(window, green, [x[0], x[1], snake, snake])\n",
    "\n",
    "def message(msg):\n",
    "    msg = font_style.render(msg, True, red)\n",
    "    window.blit(msg, [win_width / 16, win_height / 3])\n",
    "\n",
    "def game_loop():\n",
    "    gameOver = False\n",
    "    gameClose = False\n",
    "\n",
    "    x1 = win_width / 2\n",
    "    y1 = win_height / 2\n",
    "\n",
    "    x1_change = 0\n",
    "    y1_change = 0\n",
    "\n",
    "    snake_length_list = []\n",
    "    snake_length = 1\n",
    "\n",
    "    foodx = round(random.randrange(0, win_width - snake) / 10.0) * 10.0\n",
    "    foody = round(random.randrange(0, win_height - snake) / 10.0) * 10.0\n",
    "\n",
    "    while not gameOver:\n",
    "\n",
    "        while gameClose:\n",
    "            window.fill(grey)\n",
    "            message(\"You lost!! Press P to play again or Q to quit the game\")\n",
    "            user_score(snake_length - 1)\n",
    "            pygame.display.update()\n",
    "\n",
    "            for event in pygame.event.get():\n",
    "                if event.type == pygame.KEYDOWN:\n",
    "                    if event.key == pygame.K_q:\n",
    "                        gameOver = True\n",
    "                        gameClose = False\n",
    "                    if event.key == pygame.K_p:\n",
    "                        game_loop()\n",
    "\n",
    "        for event in pygame.event.get():\n",
    "            if event.type == pygame.QUIT:\n",
    "                gameOver = True\n",
    "            if event.type == pygame.KEYDOWN:\n",
    "                if event.key == K_LEFT:\n",
    "                    x1_change = -snake\n",
    "                    y1_change = 0\n",
    "                elif event.key == K_RIGHT:\n",
    "                    x1_change = snake\n",
    "                    y1_change = 0\n",
    "                elif event.key == K_UP:\n",
    "                    x1_change = 0\n",
    "                    y1_change = -snake\n",
    "                elif event.key == K_DOWN:\n",
    "                    x1_change = 0\n",
    "                    y1_change = snake\n",
    "\n",
    "        if x1 >= win_width or x1 < 0 or y1 >= win_height or y1 < 0:\n",
    "            gameClose = True\n",
    "\n",
    "        x1 += x1_change\n",
    "        y1 += y1_change\n",
    "        window.fill(grey)\n",
    "        pygame.draw.rect(window, yellow, [foodx, foody, snake, snake])\n",
    "        snake_size = []\n",
    "        snake_size.append(x1)\n",
    "        snake_size.append(y1)\n",
    "        snake_length_list.append(snake_size)\n",
    "        if len(snake_length_list) > snake_length:\n",
    "            del snake_length_list[0]\n",
    "\n",
    "        game_snake(snake, snake_length_list)\n",
    "        user_score(snake_length - 1)\n",
    "\n",
    "        pygame.display.update()\n",
    "\n",
    "        if x1 == foodx and y1 == foody:\n",
    "            foodx = round(random.randrange(0, win_width - snake) / 10.0) * 10.0\n",
    "            foody = round(random.randrange(0, win_height - snake) / 10.0) * 10.0\n",
    "            snake_length += 1\n",
    "\n",
    "        clock.tick(snake_speed)\n",
    "\n",
    "    pygame.quit()\n",
    "    quit()\n",
    "\n",
    "game_loop()\n"
   ]
  },
  {
   "cell_type": "code",
   "execution_count": null,
   "id": "3f2c1425-b53c-4bc8-96e6-0c8404cd79d2",
   "metadata": {},
   "outputs": [],
   "source": []
  }
 ],
 "metadata": {
  "kernelspec": {
   "display_name": "Python 3 (ipykernel)",
   "language": "python",
   "name": "python3"
  },
  "language_info": {
   "codemirror_mode": {
    "name": "ipython",
    "version": 3
   },
   "file_extension": ".py",
   "mimetype": "text/x-python",
   "name": "python",
   "nbconvert_exporter": "python",
   "pygments_lexer": "ipython3",
   "version": "3.11.4"
  }
 },
 "nbformat": 4,
 "nbformat_minor": 5
}
